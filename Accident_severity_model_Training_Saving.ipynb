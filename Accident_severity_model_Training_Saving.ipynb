{
 "cells": [
  {
   "cell_type": "markdown",
   "id": "980012c6",
   "metadata": {
    "id": "980012c6"
   },
   "source": [
    "# Accident severity Prediction Model"
   ]
  },
  {
   "cell_type": "markdown",
   "id": "63ac3a9e",
   "metadata": {
    "id": "63ac3a9e"
   },
   "source": [
    "Import different libraries for data manipulation, analysis and visualisation"
   ]
  },
  {
   "cell_type": "code",
   "execution_count": null,
   "id": "34b3915a",
   "metadata": {
    "id": "34b3915a"
   },
   "outputs": [],
   "source": [
    "import pandas as pd\n",
    "import numpy as np\n",
    "import matplotlib.pyplot as plt\n",
    "import plotly\n",
    "import plotly.express as ex\n",
    "import seaborn as sns\n",
    "from sklearn.preprocessing import StandardScaler\n",
    "from scipy.stats import norm\n",
    "from sklearn.preprocessing import LabelEncoder\n",
    "import numpy as np\n",
    "import scipy.stats as stats\n",
    "import seaborn as sns\n",
    "import plotly.express as px\n",
    "import os\n",
    "import pickle\n",
    "from sklearn.model_selection import train_test_split\n",
    "from sklearn.tree import DecisionTreeClassifier\n",
    "from sklearn.preprocessing import StandardScaler\n",
    "from imblearn.over_sampling import SMOTE\n",
    "from imblearn.over_sampling import RandomOverSampler\n",
    "from sklearn.model_selection import train_test_split\n",
    "from sklearn.ensemble import ExtraTreesClassifier\n",
    "from sklearn.ensemble import RandomForestClassifier\n",
    "from sklearn.neighbors import KNeighborsClassifier\n",
    "from sklearn.metrics import confusion_matrix, accuracy_score\n",
    "from scipy.stats import chi2_contingency\n",
    "from sklearn.model_selection import cross_val_score\n",
    "from sklearn.metrics import accuracy_score, confusion_matrix, classification_report, f1_score, precision_score, recall_score, roc_auc_score, roc_curve\n"
   ]
  },
  {
   "cell_type": "markdown",
   "id": "3b2f6e68",
   "metadata": {
    "id": "3b2f6e68"
   },
   "source": [
    "#Load road traffic accidents in the UK data from a cvs file into a DataFrame"
   ]
  },
  {
   "cell_type": "code",
   "execution_count": null,
   "id": "1f59d36a",
   "metadata": {
    "colab": {
     "base_uri": "https://localhost:8080/"
    },
    "id": "1f59d36a",
    "outputId": "49354013-486c-483c-ebd2-750d8bbdce91"
   },
   "outputs": [
    {
     "name": "stderr",
     "output_type": "stream",
     "text": [
      "<ipython-input-2-d2ada25336dd>:1: DtypeWarning: Columns (0,2) have mixed types. Specify dtype option on import or set low_memory=False.\n",
      "  df= pd.read_csv('dft-road-statistics-collision-last-5-years.csv')\n"
     ]
    },
    {
     "data": {
      "text/plain": [
       "(538461, 36)"
      ]
     },
     "execution_count": 2,
     "metadata": {},
     "output_type": "execute_result"
    }
   ],
   "source": [
    "df= pd.read_csv('dft-road-statistics-collision-last-5-years.csv')\n",
    "# create reference to the loaded DataFrame\n",
    "final_df= df\n",
    "# to display shape of the DataFrame( number of rows, columns)\n",
    "final_df.shape"
   ]
  },
  {
   "cell_type": "markdown",
   "id": "LlSmfW50nm0k",
   "metadata": {
    "id": "LlSmfW50nm0k"
   },
   "source": [
    "**Data Preproceesing**"
   ]
  },
  {
   "cell_type": "code",
   "execution_count": null,
   "id": "e2a73535",
   "metadata": {
    "colab": {
     "base_uri": "https://localhost:8080/",
     "height": 255
    },
    "id": "e2a73535",
    "outputId": "fed24560-a13d-4dce-da20-07cbfb21a6b6"
   },
   "outputs": [
    {
     "data": {
      "application/vnd.google.colaboratory.intrinsic+json": {
       "type": "dataframe"
      },
      "text/html": [
       "\n",
       "  <div id=\"df-2db679a3-913d-4661-ba2b-e048fa002103\" class=\"colab-df-container\">\n",
       "    <div>\n",
       "<style scoped>\n",
       "    .dataframe tbody tr th:only-of-type {\n",
       "        vertical-align: middle;\n",
       "    }\n",
       "\n",
       "    .dataframe tbody tr th {\n",
       "        vertical-align: top;\n",
       "    }\n",
       "\n",
       "    .dataframe thead th {\n",
       "        text-align: right;\n",
       "    }\n",
       "</style>\n",
       "<table border=\"1\" class=\"dataframe\">\n",
       "  <thead>\n",
       "    <tr style=\"text-align: right;\">\n",
       "      <th></th>\n",
       "      <th>accident_index</th>\n",
       "      <th>accident_year</th>\n",
       "      <th>accident_reference</th>\n",
       "      <th>location_easting_osgr</th>\n",
       "      <th>location_northing_osgr</th>\n",
       "      <th>longitude</th>\n",
       "      <th>latitude</th>\n",
       "      <th>police_force</th>\n",
       "      <th>accident_severity</th>\n",
       "      <th>number_of_vehicles</th>\n",
       "      <th>...</th>\n",
       "      <th>pedestrian_crossing_physical_facilities</th>\n",
       "      <th>light_conditions</th>\n",
       "      <th>weather_conditions</th>\n",
       "      <th>road_surface_conditions</th>\n",
       "      <th>special_conditions_at_site</th>\n",
       "      <th>carriageway_hazards</th>\n",
       "      <th>urban_or_rural_area</th>\n",
       "      <th>did_police_officer_attend_scene_of_accident</th>\n",
       "      <th>trunk_road_flag</th>\n",
       "      <th>lsoa_of_accident_location</th>\n",
       "    </tr>\n",
       "  </thead>\n",
       "  <tbody>\n",
       "    <tr>\n",
       "      <th>419394</th>\n",
       "      <td>2.0215E+12</td>\n",
       "      <td>2021</td>\n",
       "      <td>501132316</td>\n",
       "      <td>167890.0</td>\n",
       "      <td>39740.0</td>\n",
       "      <td>-5.254673</td>\n",
       "      <td>50.212028</td>\n",
       "      <td>50</td>\n",
       "      <td>3</td>\n",
       "      <td>2</td>\n",
       "      <td>...</td>\n",
       "      <td>0</td>\n",
       "      <td>6</td>\n",
       "      <td>1</td>\n",
       "      <td>2</td>\n",
       "      <td>0</td>\n",
       "      <td>0</td>\n",
       "      <td>2</td>\n",
       "      <td>1</td>\n",
       "      <td>2</td>\n",
       "      <td>E01018894</td>\n",
       "    </tr>\n",
       "    <tr>\n",
       "      <th>235477</th>\n",
       "      <td>2.01993E+12</td>\n",
       "      <td>2019</td>\n",
       "      <td>930875937</td>\n",
       "      <td>345808.0</td>\n",
       "      <td>750757.0</td>\n",
       "      <td>-2.885297</td>\n",
       "      <td>56.645463</td>\n",
       "      <td>93</td>\n",
       "      <td>2</td>\n",
       "      <td>2</td>\n",
       "      <td>...</td>\n",
       "      <td>0</td>\n",
       "      <td>1</td>\n",
       "      <td>1</td>\n",
       "      <td>1</td>\n",
       "      <td>0</td>\n",
       "      <td>0</td>\n",
       "      <td>1</td>\n",
       "      <td>1</td>\n",
       "      <td>-1</td>\n",
       "      <td>-1</td>\n",
       "    </tr>\n",
       "    <tr>\n",
       "      <th>120294</th>\n",
       "      <td>201897GK03001</td>\n",
       "      <td>2018</td>\n",
       "      <td>97GK03001</td>\n",
       "      <td>261804.0</td>\n",
       "      <td>665518.0</td>\n",
       "      <td>-4.209712</td>\n",
       "      <td>55.862966</td>\n",
       "      <td>97</td>\n",
       "      <td>3</td>\n",
       "      <td>2</td>\n",
       "      <td>...</td>\n",
       "      <td>0</td>\n",
       "      <td>1</td>\n",
       "      <td>1</td>\n",
       "      <td>1</td>\n",
       "      <td>0</td>\n",
       "      <td>0</td>\n",
       "      <td>1</td>\n",
       "      <td>2</td>\n",
       "      <td>-1</td>\n",
       "      <td>-1</td>\n",
       "    </tr>\n",
       "    <tr>\n",
       "      <th>346120</th>\n",
       "      <td>2021010000000.0</td>\n",
       "      <td>2021</td>\n",
       "      <td>10329689</td>\n",
       "      <td>526299.0</td>\n",
       "      <td>177290.0</td>\n",
       "      <td>-0.182593</td>\n",
       "      <td>51.480475</td>\n",
       "      <td>1</td>\n",
       "      <td>3</td>\n",
       "      <td>2</td>\n",
       "      <td>...</td>\n",
       "      <td>0</td>\n",
       "      <td>4</td>\n",
       "      <td>2</td>\n",
       "      <td>9</td>\n",
       "      <td>0</td>\n",
       "      <td>0</td>\n",
       "      <td>1</td>\n",
       "      <td>3</td>\n",
       "      <td>2</td>\n",
       "      <td>E01002843</td>\n",
       "    </tr>\n",
       "    <tr>\n",
       "      <th>284866</th>\n",
       "      <td>2.02021E+12</td>\n",
       "      <td>2020</td>\n",
       "      <td>211025066</td>\n",
       "      <td>387967.0</td>\n",
       "      <td>292534.0</td>\n",
       "      <td>-2.178803</td>\n",
       "      <td>52.530554</td>\n",
       "      <td>21</td>\n",
       "      <td>3</td>\n",
       "      <td>2</td>\n",
       "      <td>...</td>\n",
       "      <td>0</td>\n",
       "      <td>1</td>\n",
       "      <td>2</td>\n",
       "      <td>2</td>\n",
       "      <td>0</td>\n",
       "      <td>0</td>\n",
       "      <td>1</td>\n",
       "      <td>2</td>\n",
       "      <td>2</td>\n",
       "      <td>E01029676</td>\n",
       "    </tr>\n",
       "  </tbody>\n",
       "</table>\n",
       "<p>5 rows × 36 columns</p>\n",
       "</div>\n",
       "    <div class=\"colab-df-buttons\">\n",
       "\n",
       "  <div class=\"colab-df-container\">\n",
       "    <button class=\"colab-df-convert\" onclick=\"convertToInteractive('df-2db679a3-913d-4661-ba2b-e048fa002103')\"\n",
       "            title=\"Convert this dataframe to an interactive table.\"\n",
       "            style=\"display:none;\">\n",
       "\n",
       "  <svg xmlns=\"http://www.w3.org/2000/svg\" height=\"24px\" viewBox=\"0 -960 960 960\">\n",
       "    <path d=\"M120-120v-720h720v720H120Zm60-500h600v-160H180v160Zm220 220h160v-160H400v160Zm0 220h160v-160H400v160ZM180-400h160v-160H180v160Zm440 0h160v-160H620v160ZM180-180h160v-160H180v160Zm440 0h160v-160H620v160Z\"/>\n",
       "  </svg>\n",
       "    </button>\n",
       "\n",
       "  <style>\n",
       "    .colab-df-container {\n",
       "      display:flex;\n",
       "      gap: 12px;\n",
       "    }\n",
       "\n",
       "    .colab-df-convert {\n",
       "      background-color: #E8F0FE;\n",
       "      border: none;\n",
       "      border-radius: 50%;\n",
       "      cursor: pointer;\n",
       "      display: none;\n",
       "      fill: #1967D2;\n",
       "      height: 32px;\n",
       "      padding: 0 0 0 0;\n",
       "      width: 32px;\n",
       "    }\n",
       "\n",
       "    .colab-df-convert:hover {\n",
       "      background-color: #E2EBFA;\n",
       "      box-shadow: 0px 1px 2px rgba(60, 64, 67, 0.3), 0px 1px 3px 1px rgba(60, 64, 67, 0.15);\n",
       "      fill: #174EA6;\n",
       "    }\n",
       "\n",
       "    .colab-df-buttons div {\n",
       "      margin-bottom: 4px;\n",
       "    }\n",
       "\n",
       "    [theme=dark] .colab-df-convert {\n",
       "      background-color: #3B4455;\n",
       "      fill: #D2E3FC;\n",
       "    }\n",
       "\n",
       "    [theme=dark] .colab-df-convert:hover {\n",
       "      background-color: #434B5C;\n",
       "      box-shadow: 0px 1px 3px 1px rgba(0, 0, 0, 0.15);\n",
       "      filter: drop-shadow(0px 1px 2px rgba(0, 0, 0, 0.3));\n",
       "      fill: #FFFFFF;\n",
       "    }\n",
       "  </style>\n",
       "\n",
       "    <script>\n",
       "      const buttonEl =\n",
       "        document.querySelector('#df-2db679a3-913d-4661-ba2b-e048fa002103 button.colab-df-convert');\n",
       "      buttonEl.style.display =\n",
       "        google.colab.kernel.accessAllowed ? 'block' : 'none';\n",
       "\n",
       "      async function convertToInteractive(key) {\n",
       "        const element = document.querySelector('#df-2db679a3-913d-4661-ba2b-e048fa002103');\n",
       "        const dataTable =\n",
       "          await google.colab.kernel.invokeFunction('convertToInteractive',\n",
       "                                                    [key], {});\n",
       "        if (!dataTable) return;\n",
       "\n",
       "        const docLinkHtml = 'Like what you see? Visit the ' +\n",
       "          '<a target=\"_blank\" href=https://colab.research.google.com/notebooks/data_table.ipynb>data table notebook</a>'\n",
       "          + ' to learn more about interactive tables.';\n",
       "        element.innerHTML = '';\n",
       "        dataTable['output_type'] = 'display_data';\n",
       "        await google.colab.output.renderOutput(dataTable, element);\n",
       "        const docLink = document.createElement('div');\n",
       "        docLink.innerHTML = docLinkHtml;\n",
       "        element.appendChild(docLink);\n",
       "      }\n",
       "    </script>\n",
       "  </div>\n",
       "\n",
       "\n",
       "<div id=\"df-5f29cabe-361d-4c0c-bf39-822a0776cde3\">\n",
       "  <button class=\"colab-df-quickchart\" onclick=\"quickchart('df-5f29cabe-361d-4c0c-bf39-822a0776cde3')\"\n",
       "            title=\"Suggest charts\"\n",
       "            style=\"display:none;\">\n",
       "\n",
       "<svg xmlns=\"http://www.w3.org/2000/svg\" height=\"24px\"viewBox=\"0 0 24 24\"\n",
       "     width=\"24px\">\n",
       "    <g>\n",
       "        <path d=\"M19 3H5c-1.1 0-2 .9-2 2v14c0 1.1.9 2 2 2h14c1.1 0 2-.9 2-2V5c0-1.1-.9-2-2-2zM9 17H7v-7h2v7zm4 0h-2V7h2v10zm4 0h-2v-4h2v4z\"/>\n",
       "    </g>\n",
       "</svg>\n",
       "  </button>\n",
       "\n",
       "<style>\n",
       "  .colab-df-quickchart {\n",
       "      --bg-color: #E8F0FE;\n",
       "      --fill-color: #1967D2;\n",
       "      --hover-bg-color: #E2EBFA;\n",
       "      --hover-fill-color: #174EA6;\n",
       "      --disabled-fill-color: #AAA;\n",
       "      --disabled-bg-color: #DDD;\n",
       "  }\n",
       "\n",
       "  [theme=dark] .colab-df-quickchart {\n",
       "      --bg-color: #3B4455;\n",
       "      --fill-color: #D2E3FC;\n",
       "      --hover-bg-color: #434B5C;\n",
       "      --hover-fill-color: #FFFFFF;\n",
       "      --disabled-bg-color: #3B4455;\n",
       "      --disabled-fill-color: #666;\n",
       "  }\n",
       "\n",
       "  .colab-df-quickchart {\n",
       "    background-color: var(--bg-color);\n",
       "    border: none;\n",
       "    border-radius: 50%;\n",
       "    cursor: pointer;\n",
       "    display: none;\n",
       "    fill: var(--fill-color);\n",
       "    height: 32px;\n",
       "    padding: 0;\n",
       "    width: 32px;\n",
       "  }\n",
       "\n",
       "  .colab-df-quickchart:hover {\n",
       "    background-color: var(--hover-bg-color);\n",
       "    box-shadow: 0 1px 2px rgba(60, 64, 67, 0.3), 0 1px 3px 1px rgba(60, 64, 67, 0.15);\n",
       "    fill: var(--button-hover-fill-color);\n",
       "  }\n",
       "\n",
       "  .colab-df-quickchart-complete:disabled,\n",
       "  .colab-df-quickchart-complete:disabled:hover {\n",
       "    background-color: var(--disabled-bg-color);\n",
       "    fill: var(--disabled-fill-color);\n",
       "    box-shadow: none;\n",
       "  }\n",
       "\n",
       "  .colab-df-spinner {\n",
       "    border: 2px solid var(--fill-color);\n",
       "    border-color: transparent;\n",
       "    border-bottom-color: var(--fill-color);\n",
       "    animation:\n",
       "      spin 1s steps(1) infinite;\n",
       "  }\n",
       "\n",
       "  @keyframes spin {\n",
       "    0% {\n",
       "      border-color: transparent;\n",
       "      border-bottom-color: var(--fill-color);\n",
       "      border-left-color: var(--fill-color);\n",
       "    }\n",
       "    20% {\n",
       "      border-color: transparent;\n",
       "      border-left-color: var(--fill-color);\n",
       "      border-top-color: var(--fill-color);\n",
       "    }\n",
       "    30% {\n",
       "      border-color: transparent;\n",
       "      border-left-color: var(--fill-color);\n",
       "      border-top-color: var(--fill-color);\n",
       "      border-right-color: var(--fill-color);\n",
       "    }\n",
       "    40% {\n",
       "      border-color: transparent;\n",
       "      border-right-color: var(--fill-color);\n",
       "      border-top-color: var(--fill-color);\n",
       "    }\n",
       "    60% {\n",
       "      border-color: transparent;\n",
       "      border-right-color: var(--fill-color);\n",
       "    }\n",
       "    80% {\n",
       "      border-color: transparent;\n",
       "      border-right-color: var(--fill-color);\n",
       "      border-bottom-color: var(--fill-color);\n",
       "    }\n",
       "    90% {\n",
       "      border-color: transparent;\n",
       "      border-bottom-color: var(--fill-color);\n",
       "    }\n",
       "  }\n",
       "</style>\n",
       "\n",
       "  <script>\n",
       "    async function quickchart(key) {\n",
       "      const quickchartButtonEl =\n",
       "        document.querySelector('#' + key + ' button');\n",
       "      quickchartButtonEl.disabled = true;  // To prevent multiple clicks.\n",
       "      quickchartButtonEl.classList.add('colab-df-spinner');\n",
       "      try {\n",
       "        const charts = await google.colab.kernel.invokeFunction(\n",
       "            'suggestCharts', [key], {});\n",
       "      } catch (error) {\n",
       "        console.error('Error during call to suggestCharts:', error);\n",
       "      }\n",
       "      quickchartButtonEl.classList.remove('colab-df-spinner');\n",
       "      quickchartButtonEl.classList.add('colab-df-quickchart-complete');\n",
       "    }\n",
       "    (() => {\n",
       "      let quickchartButtonEl =\n",
       "        document.querySelector('#df-5f29cabe-361d-4c0c-bf39-822a0776cde3 button');\n",
       "      quickchartButtonEl.style.display =\n",
       "        google.colab.kernel.accessAllowed ? 'block' : 'none';\n",
       "    })();\n",
       "  </script>\n",
       "</div>\n",
       "    </div>\n",
       "  </div>\n"
      ],
      "text/plain": [
       "         accident_index  accident_year accident_reference  \\\n",
       "419394       2.0215E+12           2021          501132316   \n",
       "235477      2.01993E+12           2019          930875937   \n",
       "120294    201897GK03001           2018          97GK03001   \n",
       "346120  2021010000000.0           2021           10329689   \n",
       "284866      2.02021E+12           2020          211025066   \n",
       "\n",
       "        location_easting_osgr  location_northing_osgr  longitude   latitude  \\\n",
       "419394               167890.0                 39740.0  -5.254673  50.212028   \n",
       "235477               345808.0                750757.0  -2.885297  56.645463   \n",
       "120294               261804.0                665518.0  -4.209712  55.862966   \n",
       "346120               526299.0                177290.0  -0.182593  51.480475   \n",
       "284866               387967.0                292534.0  -2.178803  52.530554   \n",
       "\n",
       "        police_force  accident_severity  number_of_vehicles  ...  \\\n",
       "419394            50                  3                   2  ...   \n",
       "235477            93                  2                   2  ...   \n",
       "120294            97                  3                   2  ...   \n",
       "346120             1                  3                   2  ...   \n",
       "284866            21                  3                   2  ...   \n",
       "\n",
       "        pedestrian_crossing_physical_facilities light_conditions  \\\n",
       "419394                                        0                6   \n",
       "235477                                        0                1   \n",
       "120294                                        0                1   \n",
       "346120                                        0                4   \n",
       "284866                                        0                1   \n",
       "\n",
       "        weather_conditions road_surface_conditions  \\\n",
       "419394                   1                       2   \n",
       "235477                   1                       1   \n",
       "120294                   1                       1   \n",
       "346120                   2                       9   \n",
       "284866                   2                       2   \n",
       "\n",
       "        special_conditions_at_site carriageway_hazards urban_or_rural_area  \\\n",
       "419394                           0                   0                   2   \n",
       "235477                           0                   0                   1   \n",
       "120294                           0                   0                   1   \n",
       "346120                           0                   0                   1   \n",
       "284866                           0                   0                   1   \n",
       "\n",
       "        did_police_officer_attend_scene_of_accident  trunk_road_flag  \\\n",
       "419394                                            1                2   \n",
       "235477                                            1               -1   \n",
       "120294                                            2               -1   \n",
       "346120                                            3                2   \n",
       "284866                                            2                2   \n",
       "\n",
       "        lsoa_of_accident_location  \n",
       "419394                  E01018894  \n",
       "235477                         -1  \n",
       "120294                         -1  \n",
       "346120                  E01002843  \n",
       "284866                  E01029676  \n",
       "\n",
       "[5 rows x 36 columns]"
      ]
     },
     "execution_count": 3,
     "metadata": {},
     "output_type": "execute_result"
    }
   ],
   "source": [
    "# displays first 5 records from the dataset\n",
    "final_df.sample(5)"
   ]
  },
  {
   "cell_type": "code",
   "execution_count": null,
   "id": "02aeba6f",
   "metadata": {
    "colab": {
     "base_uri": "https://localhost:8080/",
     "height": 349
    },
    "id": "02aeba6f",
    "outputId": "c23aa392-4c04-4fbb-a8b4-3c8dec75ee1c"
   },
   "outputs": [
    {
     "data": {
      "application/vnd.google.colaboratory.intrinsic+json": {
       "type": "dataframe"
      },
      "text/html": [
       "\n",
       "  <div id=\"df-66fb3025-7a7e-474c-bacf-e1489d6cda15\" class=\"colab-df-container\">\n",
       "    <div>\n",
       "<style scoped>\n",
       "    .dataframe tbody tr th:only-of-type {\n",
       "        vertical-align: middle;\n",
       "    }\n",
       "\n",
       "    .dataframe tbody tr th {\n",
       "        vertical-align: top;\n",
       "    }\n",
       "\n",
       "    .dataframe thead th {\n",
       "        text-align: right;\n",
       "    }\n",
       "</style>\n",
       "<table border=\"1\" class=\"dataframe\">\n",
       "  <thead>\n",
       "    <tr style=\"text-align: right;\">\n",
       "      <th></th>\n",
       "      <th>accident_year</th>\n",
       "      <th>location_easting_osgr</th>\n",
       "      <th>location_northing_osgr</th>\n",
       "      <th>longitude</th>\n",
       "      <th>latitude</th>\n",
       "      <th>police_force</th>\n",
       "      <th>accident_severity</th>\n",
       "      <th>number_of_vehicles</th>\n",
       "      <th>number_of_casualties</th>\n",
       "      <th>day_of_week</th>\n",
       "      <th>...</th>\n",
       "      <th>pedestrian_crossing_human_control</th>\n",
       "      <th>pedestrian_crossing_physical_facilities</th>\n",
       "      <th>light_conditions</th>\n",
       "      <th>weather_conditions</th>\n",
       "      <th>road_surface_conditions</th>\n",
       "      <th>special_conditions_at_site</th>\n",
       "      <th>carriageway_hazards</th>\n",
       "      <th>urban_or_rural_area</th>\n",
       "      <th>did_police_officer_attend_scene_of_accident</th>\n",
       "      <th>trunk_road_flag</th>\n",
       "    </tr>\n",
       "  </thead>\n",
       "  <tbody>\n",
       "    <tr>\n",
       "      <th>count</th>\n",
       "      <td>538461.000000</td>\n",
       "      <td>538325.000000</td>\n",
       "      <td>5.383250e+05</td>\n",
       "      <td>538325.000000</td>\n",
       "      <td>538325.000000</td>\n",
       "      <td>538461.000000</td>\n",
       "      <td>538461.000000</td>\n",
       "      <td>538461.000000</td>\n",
       "      <td>538461.000000</td>\n",
       "      <td>538461.000000</td>\n",
       "      <td>...</td>\n",
       "      <td>538461.000000</td>\n",
       "      <td>538461.000000</td>\n",
       "      <td>538461.000000</td>\n",
       "      <td>538461.000000</td>\n",
       "      <td>538461.000000</td>\n",
       "      <td>538461.000000</td>\n",
       "      <td>538461.000000</td>\n",
       "      <td>538461.000000</td>\n",
       "      <td>538461.000000</td>\n",
       "      <td>538461.000000</td>\n",
       "    </tr>\n",
       "    <tr>\n",
       "      <th>mean</th>\n",
       "      <td>2019.907679</td>\n",
       "      <td>454165.430285</td>\n",
       "      <td>2.769745e+05</td>\n",
       "      <td>-1.223359</td>\n",
       "      <td>52.380071</td>\n",
       "      <td>27.762417</td>\n",
       "      <td>2.768763</td>\n",
       "      <td>1.838857</td>\n",
       "      <td>1.287053</td>\n",
       "      <td>4.126730</td>\n",
       "      <td>...</td>\n",
       "      <td>0.315204</td>\n",
       "      <td>1.140140</td>\n",
       "      <td>2.019955</td>\n",
       "      <td>1.649640</td>\n",
       "      <td>1.362812</td>\n",
       "      <td>0.225857</td>\n",
       "      <td>0.174206</td>\n",
       "      <td>1.323498</td>\n",
       "      <td>1.402436</td>\n",
       "      <td>1.701074</td>\n",
       "    </tr>\n",
       "    <tr>\n",
       "      <th>std</th>\n",
       "      <td>1.447742</td>\n",
       "      <td>93969.372653</td>\n",
       "      <td>1.485685e+05</td>\n",
       "      <td>1.375500</td>\n",
       "      <td>1.338442</td>\n",
       "      <td>24.515770</td>\n",
       "      <td>0.454668</td>\n",
       "      <td>0.697104</td>\n",
       "      <td>0.719502</td>\n",
       "      <td>1.931843</td>\n",
       "      <td>...</td>\n",
       "      <td>1.604789</td>\n",
       "      <td>2.381313</td>\n",
       "      <td>1.710821</td>\n",
       "      <td>1.825349</td>\n",
       "      <td>0.933006</td>\n",
       "      <td>1.269954</td>\n",
       "      <td>1.137375</td>\n",
       "      <td>0.468363</td>\n",
       "      <td>0.659404</td>\n",
       "      <td>0.823188</td>\n",
       "    </tr>\n",
       "    <tr>\n",
       "      <th>min</th>\n",
       "      <td>2018.000000</td>\n",
       "      <td>64084.000000</td>\n",
       "      <td>1.023500e+04</td>\n",
       "      <td>-7.525273</td>\n",
       "      <td>49.912362</td>\n",
       "      <td>1.000000</td>\n",
       "      <td>1.000000</td>\n",
       "      <td>1.000000</td>\n",
       "      <td>1.000000</td>\n",
       "      <td>1.000000</td>\n",
       "      <td>...</td>\n",
       "      <td>-1.000000</td>\n",
       "      <td>-1.000000</td>\n",
       "      <td>-1.000000</td>\n",
       "      <td>-1.000000</td>\n",
       "      <td>-1.000000</td>\n",
       "      <td>-1.000000</td>\n",
       "      <td>-1.000000</td>\n",
       "      <td>-1.000000</td>\n",
       "      <td>-1.000000</td>\n",
       "      <td>-1.000000</td>\n",
       "    </tr>\n",
       "    <tr>\n",
       "      <th>25%</th>\n",
       "      <td>2019.000000</td>\n",
       "      <td>390590.000000</td>\n",
       "      <td>1.752400e+05</td>\n",
       "      <td>-2.141698</td>\n",
       "      <td>51.463200</td>\n",
       "      <td>4.000000</td>\n",
       "      <td>3.000000</td>\n",
       "      <td>1.000000</td>\n",
       "      <td>1.000000</td>\n",
       "      <td>2.000000</td>\n",
       "      <td>...</td>\n",
       "      <td>0.000000</td>\n",
       "      <td>0.000000</td>\n",
       "      <td>1.000000</td>\n",
       "      <td>1.000000</td>\n",
       "      <td>1.000000</td>\n",
       "      <td>0.000000</td>\n",
       "      <td>0.000000</td>\n",
       "      <td>1.000000</td>\n",
       "      <td>1.000000</td>\n",
       "      <td>2.000000</td>\n",
       "    </tr>\n",
       "    <tr>\n",
       "      <th>50%</th>\n",
       "      <td>2020.000000</td>\n",
       "      <td>460851.000000</td>\n",
       "      <td>2.154860e+05</td>\n",
       "      <td>-1.100208</td>\n",
       "      <td>51.821815</td>\n",
       "      <td>22.000000</td>\n",
       "      <td>3.000000</td>\n",
       "      <td>2.000000</td>\n",
       "      <td>1.000000</td>\n",
       "      <td>4.000000</td>\n",
       "      <td>...</td>\n",
       "      <td>0.000000</td>\n",
       "      <td>0.000000</td>\n",
       "      <td>1.000000</td>\n",
       "      <td>1.000000</td>\n",
       "      <td>1.000000</td>\n",
       "      <td>0.000000</td>\n",
       "      <td>0.000000</td>\n",
       "      <td>1.000000</td>\n",
       "      <td>1.000000</td>\n",
       "      <td>2.000000</td>\n",
       "    </tr>\n",
       "    <tr>\n",
       "      <th>75%</th>\n",
       "      <td>2021.000000</td>\n",
       "      <td>529672.000000</td>\n",
       "      <td>3.842950e+05</td>\n",
       "      <td>-0.132040</td>\n",
       "      <td>53.351786</td>\n",
       "      <td>45.000000</td>\n",
       "      <td>3.000000</td>\n",
       "      <td>2.000000</td>\n",
       "      <td>1.000000</td>\n",
       "      <td>6.000000</td>\n",
       "      <td>...</td>\n",
       "      <td>0.000000</td>\n",
       "      <td>0.000000</td>\n",
       "      <td>4.000000</td>\n",
       "      <td>1.000000</td>\n",
       "      <td>2.000000</td>\n",
       "      <td>0.000000</td>\n",
       "      <td>0.000000</td>\n",
       "      <td>2.000000</td>\n",
       "      <td>2.000000</td>\n",
       "      <td>2.000000</td>\n",
       "    </tr>\n",
       "    <tr>\n",
       "      <th>max</th>\n",
       "      <td>2022.000000</td>\n",
       "      <td>655345.000000</td>\n",
       "      <td>1.209512e+06</td>\n",
       "      <td>1.759829</td>\n",
       "      <td>60.763722</td>\n",
       "      <td>99.000000</td>\n",
       "      <td>3.000000</td>\n",
       "      <td>24.000000</td>\n",
       "      <td>59.000000</td>\n",
       "      <td>7.000000</td>\n",
       "      <td>...</td>\n",
       "      <td>9.000000</td>\n",
       "      <td>9.000000</td>\n",
       "      <td>7.000000</td>\n",
       "      <td>9.000000</td>\n",
       "      <td>9.000000</td>\n",
       "      <td>9.000000</td>\n",
       "      <td>9.000000</td>\n",
       "      <td>3.000000</td>\n",
       "      <td>3.000000</td>\n",
       "      <td>2.000000</td>\n",
       "    </tr>\n",
       "  </tbody>\n",
       "</table>\n",
       "<p>8 rows × 29 columns</p>\n",
       "</div>\n",
       "    <div class=\"colab-df-buttons\">\n",
       "\n",
       "  <div class=\"colab-df-container\">\n",
       "    <button class=\"colab-df-convert\" onclick=\"convertToInteractive('df-66fb3025-7a7e-474c-bacf-e1489d6cda15')\"\n",
       "            title=\"Convert this dataframe to an interactive table.\"\n",
       "            style=\"display:none;\">\n",
       "\n",
       "  <svg xmlns=\"http://www.w3.org/2000/svg\" height=\"24px\" viewBox=\"0 -960 960 960\">\n",
       "    <path d=\"M120-120v-720h720v720H120Zm60-500h600v-160H180v160Zm220 220h160v-160H400v160Zm0 220h160v-160H400v160ZM180-400h160v-160H180v160Zm440 0h160v-160H620v160ZM180-180h160v-160H180v160Zm440 0h160v-160H620v160Z\"/>\n",
       "  </svg>\n",
       "    </button>\n",
       "\n",
       "  <style>\n",
       "    .colab-df-container {\n",
       "      display:flex;\n",
       "      gap: 12px;\n",
       "    }\n",
       "\n",
       "    .colab-df-convert {\n",
       "      background-color: #E8F0FE;\n",
       "      border: none;\n",
       "      border-radius: 50%;\n",
       "      cursor: pointer;\n",
       "      display: none;\n",
       "      fill: #1967D2;\n",
       "      height: 32px;\n",
       "      padding: 0 0 0 0;\n",
       "      width: 32px;\n",
       "    }\n",
       "\n",
       "    .colab-df-convert:hover {\n",
       "      background-color: #E2EBFA;\n",
       "      box-shadow: 0px 1px 2px rgba(60, 64, 67, 0.3), 0px 1px 3px 1px rgba(60, 64, 67, 0.15);\n",
       "      fill: #174EA6;\n",
       "    }\n",
       "\n",
       "    .colab-df-buttons div {\n",
       "      margin-bottom: 4px;\n",
       "    }\n",
       "\n",
       "    [theme=dark] .colab-df-convert {\n",
       "      background-color: #3B4455;\n",
       "      fill: #D2E3FC;\n",
       "    }\n",
       "\n",
       "    [theme=dark] .colab-df-convert:hover {\n",
       "      background-color: #434B5C;\n",
       "      box-shadow: 0px 1px 3px 1px rgba(0, 0, 0, 0.15);\n",
       "      filter: drop-shadow(0px 1px 2px rgba(0, 0, 0, 0.3));\n",
       "      fill: #FFFFFF;\n",
       "    }\n",
       "  </style>\n",
       "\n",
       "    <script>\n",
       "      const buttonEl =\n",
       "        document.querySelector('#df-66fb3025-7a7e-474c-bacf-e1489d6cda15 button.colab-df-convert');\n",
       "      buttonEl.style.display =\n",
       "        google.colab.kernel.accessAllowed ? 'block' : 'none';\n",
       "\n",
       "      async function convertToInteractive(key) {\n",
       "        const element = document.querySelector('#df-66fb3025-7a7e-474c-bacf-e1489d6cda15');\n",
       "        const dataTable =\n",
       "          await google.colab.kernel.invokeFunction('convertToInteractive',\n",
       "                                                    [key], {});\n",
       "        if (!dataTable) return;\n",
       "\n",
       "        const docLinkHtml = 'Like what you see? Visit the ' +\n",
       "          '<a target=\"_blank\" href=https://colab.research.google.com/notebooks/data_table.ipynb>data table notebook</a>'\n",
       "          + ' to learn more about interactive tables.';\n",
       "        element.innerHTML = '';\n",
       "        dataTable['output_type'] = 'display_data';\n",
       "        await google.colab.output.renderOutput(dataTable, element);\n",
       "        const docLink = document.createElement('div');\n",
       "        docLink.innerHTML = docLinkHtml;\n",
       "        element.appendChild(docLink);\n",
       "      }\n",
       "    </script>\n",
       "  </div>\n",
       "\n",
       "\n",
       "<div id=\"df-364b5eee-9c8a-4bf7-9fbf-39e67f910353\">\n",
       "  <button class=\"colab-df-quickchart\" onclick=\"quickchart('df-364b5eee-9c8a-4bf7-9fbf-39e67f910353')\"\n",
       "            title=\"Suggest charts\"\n",
       "            style=\"display:none;\">\n",
       "\n",
       "<svg xmlns=\"http://www.w3.org/2000/svg\" height=\"24px\"viewBox=\"0 0 24 24\"\n",
       "     width=\"24px\">\n",
       "    <g>\n",
       "        <path d=\"M19 3H5c-1.1 0-2 .9-2 2v14c0 1.1.9 2 2 2h14c1.1 0 2-.9 2-2V5c0-1.1-.9-2-2-2zM9 17H7v-7h2v7zm4 0h-2V7h2v10zm4 0h-2v-4h2v4z\"/>\n",
       "    </g>\n",
       "</svg>\n",
       "  </button>\n",
       "\n",
       "<style>\n",
       "  .colab-df-quickchart {\n",
       "      --bg-color: #E8F0FE;\n",
       "      --fill-color: #1967D2;\n",
       "      --hover-bg-color: #E2EBFA;\n",
       "      --hover-fill-color: #174EA6;\n",
       "      --disabled-fill-color: #AAA;\n",
       "      --disabled-bg-color: #DDD;\n",
       "  }\n",
       "\n",
       "  [theme=dark] .colab-df-quickchart {\n",
       "      --bg-color: #3B4455;\n",
       "      --fill-color: #D2E3FC;\n",
       "      --hover-bg-color: #434B5C;\n",
       "      --hover-fill-color: #FFFFFF;\n",
       "      --disabled-bg-color: #3B4455;\n",
       "      --disabled-fill-color: #666;\n",
       "  }\n",
       "\n",
       "  .colab-df-quickchart {\n",
       "    background-color: var(--bg-color);\n",
       "    border: none;\n",
       "    border-radius: 50%;\n",
       "    cursor: pointer;\n",
       "    display: none;\n",
       "    fill: var(--fill-color);\n",
       "    height: 32px;\n",
       "    padding: 0;\n",
       "    width: 32px;\n",
       "  }\n",
       "\n",
       "  .colab-df-quickchart:hover {\n",
       "    background-color: var(--hover-bg-color);\n",
       "    box-shadow: 0 1px 2px rgba(60, 64, 67, 0.3), 0 1px 3px 1px rgba(60, 64, 67, 0.15);\n",
       "    fill: var(--button-hover-fill-color);\n",
       "  }\n",
       "\n",
       "  .colab-df-quickchart-complete:disabled,\n",
       "  .colab-df-quickchart-complete:disabled:hover {\n",
       "    background-color: var(--disabled-bg-color);\n",
       "    fill: var(--disabled-fill-color);\n",
       "    box-shadow: none;\n",
       "  }\n",
       "\n",
       "  .colab-df-spinner {\n",
       "    border: 2px solid var(--fill-color);\n",
       "    border-color: transparent;\n",
       "    border-bottom-color: var(--fill-color);\n",
       "    animation:\n",
       "      spin 1s steps(1) infinite;\n",
       "  }\n",
       "\n",
       "  @keyframes spin {\n",
       "    0% {\n",
       "      border-color: transparent;\n",
       "      border-bottom-color: var(--fill-color);\n",
       "      border-left-color: var(--fill-color);\n",
       "    }\n",
       "    20% {\n",
       "      border-color: transparent;\n",
       "      border-left-color: var(--fill-color);\n",
       "      border-top-color: var(--fill-color);\n",
       "    }\n",
       "    30% {\n",
       "      border-color: transparent;\n",
       "      border-left-color: var(--fill-color);\n",
       "      border-top-color: var(--fill-color);\n",
       "      border-right-color: var(--fill-color);\n",
       "    }\n",
       "    40% {\n",
       "      border-color: transparent;\n",
       "      border-right-color: var(--fill-color);\n",
       "      border-top-color: var(--fill-color);\n",
       "    }\n",
       "    60% {\n",
       "      border-color: transparent;\n",
       "      border-right-color: var(--fill-color);\n",
       "    }\n",
       "    80% {\n",
       "      border-color: transparent;\n",
       "      border-right-color: var(--fill-color);\n",
       "      border-bottom-color: var(--fill-color);\n",
       "    }\n",
       "    90% {\n",
       "      border-color: transparent;\n",
       "      border-bottom-color: var(--fill-color);\n",
       "    }\n",
       "  }\n",
       "</style>\n",
       "\n",
       "  <script>\n",
       "    async function quickchart(key) {\n",
       "      const quickchartButtonEl =\n",
       "        document.querySelector('#' + key + ' button');\n",
       "      quickchartButtonEl.disabled = true;  // To prevent multiple clicks.\n",
       "      quickchartButtonEl.classList.add('colab-df-spinner');\n",
       "      try {\n",
       "        const charts = await google.colab.kernel.invokeFunction(\n",
       "            'suggestCharts', [key], {});\n",
       "      } catch (error) {\n",
       "        console.error('Error during call to suggestCharts:', error);\n",
       "      }\n",
       "      quickchartButtonEl.classList.remove('colab-df-spinner');\n",
       "      quickchartButtonEl.classList.add('colab-df-quickchart-complete');\n",
       "    }\n",
       "    (() => {\n",
       "      let quickchartButtonEl =\n",
       "        document.querySelector('#df-364b5eee-9c8a-4bf7-9fbf-39e67f910353 button');\n",
       "      quickchartButtonEl.style.display =\n",
       "        google.colab.kernel.accessAllowed ? 'block' : 'none';\n",
       "    })();\n",
       "  </script>\n",
       "</div>\n",
       "    </div>\n",
       "  </div>\n"
      ],
      "text/plain": [
       "       accident_year  location_easting_osgr  location_northing_osgr  \\\n",
       "count  538461.000000          538325.000000            5.383250e+05   \n",
       "mean     2019.907679          454165.430285            2.769745e+05   \n",
       "std         1.447742           93969.372653            1.485685e+05   \n",
       "min      2018.000000           64084.000000            1.023500e+04   \n",
       "25%      2019.000000          390590.000000            1.752400e+05   \n",
       "50%      2020.000000          460851.000000            2.154860e+05   \n",
       "75%      2021.000000          529672.000000            3.842950e+05   \n",
       "max      2022.000000          655345.000000            1.209512e+06   \n",
       "\n",
       "           longitude       latitude   police_force  accident_severity  \\\n",
       "count  538325.000000  538325.000000  538461.000000      538461.000000   \n",
       "mean       -1.223359      52.380071      27.762417           2.768763   \n",
       "std         1.375500       1.338442      24.515770           0.454668   \n",
       "min        -7.525273      49.912362       1.000000           1.000000   \n",
       "25%        -2.141698      51.463200       4.000000           3.000000   \n",
       "50%        -1.100208      51.821815      22.000000           3.000000   \n",
       "75%        -0.132040      53.351786      45.000000           3.000000   \n",
       "max         1.759829      60.763722      99.000000           3.000000   \n",
       "\n",
       "       number_of_vehicles  number_of_casualties    day_of_week  ...  \\\n",
       "count       538461.000000         538461.000000  538461.000000  ...   \n",
       "mean             1.838857              1.287053       4.126730  ...   \n",
       "std              0.697104              0.719502       1.931843  ...   \n",
       "min              1.000000              1.000000       1.000000  ...   \n",
       "25%              1.000000              1.000000       2.000000  ...   \n",
       "50%              2.000000              1.000000       4.000000  ...   \n",
       "75%              2.000000              1.000000       6.000000  ...   \n",
       "max             24.000000             59.000000       7.000000  ...   \n",
       "\n",
       "       pedestrian_crossing_human_control  \\\n",
       "count                      538461.000000   \n",
       "mean                            0.315204   \n",
       "std                             1.604789   \n",
       "min                            -1.000000   \n",
       "25%                             0.000000   \n",
       "50%                             0.000000   \n",
       "75%                             0.000000   \n",
       "max                             9.000000   \n",
       "\n",
       "       pedestrian_crossing_physical_facilities  light_conditions  \\\n",
       "count                            538461.000000     538461.000000   \n",
       "mean                                  1.140140          2.019955   \n",
       "std                                   2.381313          1.710821   \n",
       "min                                  -1.000000         -1.000000   \n",
       "25%                                   0.000000          1.000000   \n",
       "50%                                   0.000000          1.000000   \n",
       "75%                                   0.000000          4.000000   \n",
       "max                                   9.000000          7.000000   \n",
       "\n",
       "       weather_conditions  road_surface_conditions  \\\n",
       "count       538461.000000            538461.000000   \n",
       "mean             1.649640                 1.362812   \n",
       "std              1.825349                 0.933006   \n",
       "min             -1.000000                -1.000000   \n",
       "25%              1.000000                 1.000000   \n",
       "50%              1.000000                 1.000000   \n",
       "75%              1.000000                 2.000000   \n",
       "max              9.000000                 9.000000   \n",
       "\n",
       "       special_conditions_at_site  carriageway_hazards  urban_or_rural_area  \\\n",
       "count               538461.000000        538461.000000        538461.000000   \n",
       "mean                     0.225857             0.174206             1.323498   \n",
       "std                      1.269954             1.137375             0.468363   \n",
       "min                     -1.000000            -1.000000            -1.000000   \n",
       "25%                      0.000000             0.000000             1.000000   \n",
       "50%                      0.000000             0.000000             1.000000   \n",
       "75%                      0.000000             0.000000             2.000000   \n",
       "max                      9.000000             9.000000             3.000000   \n",
       "\n",
       "       did_police_officer_attend_scene_of_accident  trunk_road_flag  \n",
       "count                                538461.000000    538461.000000  \n",
       "mean                                      1.402436         1.701074  \n",
       "std                                       0.659404         0.823188  \n",
       "min                                      -1.000000        -1.000000  \n",
       "25%                                       1.000000         2.000000  \n",
       "50%                                       1.000000         2.000000  \n",
       "75%                                       2.000000         2.000000  \n",
       "max                                       3.000000         2.000000  \n",
       "\n",
       "[8 rows x 29 columns]"
      ]
     },
     "execution_count": 4,
     "metadata": {},
     "output_type": "execute_result"
    }
   ],
   "source": [
    "# Displays Descriptive Statistics of all the numeric columns from the DataFrame\n",
    "final_df.describe()"
   ]
  },
  {
   "cell_type": "code",
   "execution_count": null,
   "id": "43e665ef",
   "metadata": {
    "colab": {
     "base_uri": "https://localhost:8080/"
    },
    "id": "43e665ef",
    "outputId": "3ea3f59b-d7de-47c4-d8c2-09606375392f"
   },
   "outputs": [
    {
     "name": "stdout",
     "output_type": "stream",
     "text": [
      "<class 'pandas.core.frame.DataFrame'>\n",
      "RangeIndex: 538461 entries, 0 to 538460\n",
      "Data columns (total 36 columns):\n",
      " #   Column                                       Non-Null Count   Dtype  \n",
      "---  ------                                       --------------   -----  \n",
      " 0   accident_index                               538461 non-null  object \n",
      " 1   accident_year                                538461 non-null  int64  \n",
      " 2   accident_reference                           538461 non-null  object \n",
      " 3   location_easting_osgr                        538325 non-null  float64\n",
      " 4   location_northing_osgr                       538325 non-null  float64\n",
      " 5   longitude                                    538325 non-null  float64\n",
      " 6   latitude                                     538325 non-null  float64\n",
      " 7   police_force                                 538461 non-null  int64  \n",
      " 8   accident_severity                            538461 non-null  int64  \n",
      " 9   number_of_vehicles                           538461 non-null  int64  \n",
      " 10  number_of_casualties                         538461 non-null  int64  \n",
      " 11  date                                         538461 non-null  object \n",
      " 12  day_of_week                                  538461 non-null  int64  \n",
      " 13  time                                         538461 non-null  object \n",
      " 14  local_authority_district                     538461 non-null  int64  \n",
      " 15  local_authority_ons_district                 538461 non-null  object \n",
      " 16  local_authority_highway                      538461 non-null  object \n",
      " 17  first_road_class                             538461 non-null  int64  \n",
      " 18  first_road_number                            538461 non-null  int64  \n",
      " 19  road_type                                    538461 non-null  int64  \n",
      " 20  speed_limit                                  538461 non-null  int64  \n",
      " 21  junction_detail                              538461 non-null  int64  \n",
      " 22  junction_control                             538461 non-null  int64  \n",
      " 23  second_road_class                            538461 non-null  int64  \n",
      " 24  second_road_number                           538461 non-null  int64  \n",
      " 25  pedestrian_crossing_human_control            538461 non-null  int64  \n",
      " 26  pedestrian_crossing_physical_facilities      538461 non-null  int64  \n",
      " 27  light_conditions                             538461 non-null  int64  \n",
      " 28  weather_conditions                           538461 non-null  int64  \n",
      " 29  road_surface_conditions                      538461 non-null  int64  \n",
      " 30  special_conditions_at_site                   538461 non-null  int64  \n",
      " 31  carriageway_hazards                          538461 non-null  int64  \n",
      " 32  urban_or_rural_area                          538461 non-null  int64  \n",
      " 33  did_police_officer_attend_scene_of_accident  538461 non-null  int64  \n",
      " 34  trunk_road_flag                              538461 non-null  int64  \n",
      " 35  lsoa_of_accident_location                    538461 non-null  object \n",
      "dtypes: float64(4), int64(25), object(7)\n",
      "memory usage: 147.9+ MB\n"
     ]
    }
   ],
   "source": [
    "# Display complete summary of the DataFrame\n",
    "final_df.info()"
   ]
  },
  {
   "cell_type": "code",
   "execution_count": null,
   "id": "7c7c70c2",
   "metadata": {
    "colab": {
     "base_uri": "https://localhost:8080/"
    },
    "id": "7c7c70c2",
    "outputId": "61ab4fe5-6067-4149-b3ce-8e19ec3f493c"
   },
   "outputs": [
    {
     "data": {
      "text/plain": [
       "accident_index                                 False\n",
       "accident_year                                  False\n",
       "accident_reference                             False\n",
       "location_easting_osgr                           True\n",
       "location_northing_osgr                          True\n",
       "longitude                                       True\n",
       "latitude                                        True\n",
       "police_force                                   False\n",
       "accident_severity                              False\n",
       "number_of_vehicles                             False\n",
       "number_of_casualties                           False\n",
       "date                                           False\n",
       "day_of_week                                    False\n",
       "time                                           False\n",
       "local_authority_district                       False\n",
       "local_authority_ons_district                   False\n",
       "local_authority_highway                        False\n",
       "first_road_class                               False\n",
       "first_road_number                              False\n",
       "road_type                                      False\n",
       "speed_limit                                    False\n",
       "junction_detail                                False\n",
       "junction_control                               False\n",
       "second_road_class                              False\n",
       "second_road_number                             False\n",
       "pedestrian_crossing_human_control              False\n",
       "pedestrian_crossing_physical_facilities        False\n",
       "light_conditions                               False\n",
       "weather_conditions                             False\n",
       "road_surface_conditions                        False\n",
       "special_conditions_at_site                     False\n",
       "carriageway_hazards                            False\n",
       "urban_or_rural_area                            False\n",
       "did_police_officer_attend_scene_of_accident    False\n",
       "trunk_road_flag                                False\n",
       "lsoa_of_accident_location                      False\n",
       "dtype: bool"
      ]
     },
     "execution_count": 6,
     "metadata": {},
     "output_type": "execute_result"
    }
   ],
   "source": [
    "# Checks for the missing values in the DataFrame (NA/NULL) display True if present else False\n",
    "final_df.isna().any()"
   ]
  },
  {
   "cell_type": "code",
   "execution_count": null,
   "id": "132f1890",
   "metadata": {
    "colab": {
     "base_uri": "https://localhost:8080/"
    },
    "id": "132f1890",
    "outputId": "526f242e-5a72-47f5-884f-e195a976b575"
   },
   "outputs": [
    {
     "data": {
      "text/plain": [
       "accident_index                                 0.000000\n",
       "accident_year                                  0.000000\n",
       "accident_reference                             0.000000\n",
       "location_easting_osgr                          0.025257\n",
       "location_northing_osgr                         0.025257\n",
       "longitude                                      0.025257\n",
       "latitude                                       0.025257\n",
       "police_force                                   0.000000\n",
       "accident_severity                              0.000000\n",
       "number_of_vehicles                             0.000000\n",
       "number_of_casualties                           0.000000\n",
       "date                                           0.000000\n",
       "day_of_week                                    0.000000\n",
       "time                                           0.000000\n",
       "local_authority_district                       0.000000\n",
       "local_authority_ons_district                   0.000000\n",
       "local_authority_highway                        0.000000\n",
       "first_road_class                               0.000000\n",
       "first_road_number                              0.000000\n",
       "road_type                                      0.000000\n",
       "speed_limit                                    0.000000\n",
       "junction_detail                                0.000000\n",
       "junction_control                               0.000000\n",
       "second_road_class                              0.000000\n",
       "second_road_number                             0.000000\n",
       "pedestrian_crossing_human_control              0.000000\n",
       "pedestrian_crossing_physical_facilities        0.000000\n",
       "light_conditions                               0.000000\n",
       "weather_conditions                             0.000000\n",
       "road_surface_conditions                        0.000000\n",
       "special_conditions_at_site                     0.000000\n",
       "carriageway_hazards                            0.000000\n",
       "urban_or_rural_area                            0.000000\n",
       "did_police_officer_attend_scene_of_accident    0.000000\n",
       "trunk_road_flag                                0.000000\n",
       "lsoa_of_accident_location                      0.000000\n",
       "dtype: float64"
      ]
     },
     "execution_count": 7,
     "metadata": {},
     "output_type": "execute_result"
    }
   ],
   "source": [
    "# Calculates percentage of missing values for each column\n",
    "final_df.isnull().sum() / len(df) * 100"
   ]
  },
  {
   "cell_type": "markdown",
   "id": "5a4fb8dd",
   "metadata": {
    "id": "5a4fb8dd"
   },
   "source": [
    "#Nuumber of missing values are very less as compared to the number of records in the dataset so we can drop the missing value rows"
   ]
  },
  {
   "cell_type": "code",
   "execution_count": null,
   "id": "c27a447c",
   "metadata": {
    "id": "c27a447c"
   },
   "outputs": [],
   "source": [
    "final_df.dropna(subset=['location_easting_osgr', 'location_northing_osgr',\n",
    "                  'longitude', 'latitude'], inplace=True)"
   ]
  },
  {
   "cell_type": "code",
   "execution_count": null,
   "id": "b7c6d5e7",
   "metadata": {
    "colab": {
     "base_uri": "https://localhost:8080/"
    },
    "id": "b7c6d5e7",
    "outputId": "1422ce9e-1876-4927-d538-14d59309917d"
   },
   "outputs": [
    {
     "name": "stdout",
     "output_type": "stream",
     "text": [
      "No. of duplicate rows:  0\n"
     ]
    }
   ],
   "source": [
    "dup_rows = final_df[final_df.duplicated()]\n",
    "print(\"No. of duplicate rows: \", dup_rows.shape[0])"
   ]
  },
  {
   "cell_type": "markdown",
   "id": "460868b4",
   "metadata": {
    "id": "460868b4"
   },
   "source": [
    "#No duplicate rows found in the dataset"
   ]
  },
  {
   "cell_type": "markdown",
   "id": "8e0a1001",
   "metadata": {
    "id": "8e0a1001"
   },
   "source": [
    "#find the number of numeric columns"
   ]
  },
  {
   "cell_type": "code",
   "execution_count": null,
   "id": "01a67403",
   "metadata": {
    "colab": {
     "base_uri": "https://localhost:8080/"
    },
    "id": "01a67403",
    "outputId": "f9147737-14c1-450d-eea7-e4e58c0ceae4"
   },
   "outputs": [
    {
     "data": {
      "text/plain": [
       "29"
      ]
     },
     "execution_count": 10,
     "metadata": {},
     "output_type": "execute_result"
    }
   ],
   "source": [
    "numerical_data = final_df.select_dtypes(include='number')\n",
    "num_cols = numerical_data.columns\n",
    "len(num_cols)"
   ]
  },
  {
   "cell_type": "markdown",
   "id": "1e1da906",
   "metadata": {
    "id": "1e1da906"
   },
   "source": [
    "#Find the number of categoric columns in the dataset"
   ]
  },
  {
   "cell_type": "code",
   "execution_count": null,
   "id": "51c0f5a9",
   "metadata": {
    "colab": {
     "base_uri": "https://localhost:8080/"
    },
    "id": "51c0f5a9",
    "outputId": "505e5508-5dd6-42bb-88ba-7d071eb75e80"
   },
   "outputs": [
    {
     "data": {
      "text/plain": [
       "7"
      ]
     },
     "execution_count": 11,
     "metadata": {},
     "output_type": "execute_result"
    }
   ],
   "source": [
    "categorical_data = final_df.select_dtypes(include='object')\n",
    "cat_cols = categorical_data.columns\n",
    "len(cat_cols)"
   ]
  },
  {
   "cell_type": "markdown",
   "id": "d28665f8",
   "metadata": {
    "id": "d28665f8",
    "outputId": "c2f47914-60f5-4251-e722-375257fb71f2"
   },
   "source": [
    "Feature selection"
   ]
  },
  {
   "cell_type": "code",
   "execution_count": null,
   "id": "84a3abea",
   "metadata": {
    "colab": {
     "base_uri": "https://localhost:8080/",
     "height": 1000
    },
    "id": "84a3abea",
    "outputId": "886f734d-18ab-4009-95c6-84be368ad3cc"
   },
   "outputs": [
    {
     "name": "stdout",
     "output_type": "stream",
     "text": [
      "Feature ranking:\n",
      "1. Feature location_northing_osgr (0.122667305077981)\n",
      "2. Feature latitude (0.12038534808122944)\n",
      "3. Feature location_easting_osgr (0.11438719088341648)\n",
      "4. Feature longitude (0.11436865281300498)\n",
      "5. Feature day_of_week (0.06640793885530556)\n",
      "6. Feature first_road_number (0.06601881066981957)\n",
      "7. Feature local_authority_district (0.03730241097257146)\n",
      "8. Feature accident_year (0.034740048373259606)\n",
      "9. Feature junction_detail (0.028616494236111296)\n",
      "10. Feature speed_limit (0.024546257332540802)\n",
      "11. Feature number_of_vehicles (0.023838224984568494)\n",
      "12. Feature second_road_number (0.023061368988227072)\n",
      "13. Feature did_police_officer_attend_scene_of_accident (0.022389275079027167)\n",
      "14. Feature pedestrian_crossing_physical_facilities (0.02172778343349265)\n",
      "15. Feature weather_conditions (0.020887347370691558)\n",
      "16. Feature light_conditions (0.02009610787569472)\n",
      "17. Feature number_of_casualties (0.019476452590476513)\n",
      "18. Feature police_force (0.017150684838270754)\n",
      "19. Feature first_road_class (0.017097081186491996)\n",
      "20. Feature road_type (0.01618376687702432)\n",
      "21. Feature road_surface_conditions (0.015827966853623643)\n",
      "22. Feature second_road_class (0.013426977421661235)\n",
      "23. Feature junction_control (0.012449917490738448)\n",
      "24. Feature urban_or_rural_area (0.007311864706032482)\n",
      "25. Feature special_conditions_at_site (0.006328363869056034)\n",
      "26. Feature carriageway_hazards (0.006042885226578773)\n",
      "27. Feature pedestrian_crossing_human_control (0.004414994513951054)\n",
      "28. Feature trunk_road_flag (0.0028484793991527474)\n"
     ]
    },
    {
     "data": {
      "image/png": "[encoded data removed]",
      "text/plain": [
       "<Figure size 1000x600 with 1 Axes>"
      ]
     },
     "metadata": {},
     "output_type": "display_data"
    }
   ],
   "source": [
    "# Copy the DataFrame into different reference\n",
    "accident_severity_data =final_df.copy()\n",
    "\n",
    "# Iterate through each column of the DataFarme with data type object and drop it\n",
    "for feature in accident_severity_data.dtypes[accident_severity_data.dtypes == 'object'].index :\n",
    "    accident_severity_data.drop(columns = feature, inplace = True)\n",
    "\n",
    "# select all the other variable except target variable 'accident_severity'\n",
    "X = accident_severity_data.drop(columns=['accident_severity'])\n",
    "# select only target variable\n",
    "y = accident_severity_data['accident_severity']\n",
    "\n",
    "# Split data into train and test sets\n",
    "X_train, X_test, y_train, y_test = train_test_split(X, y, test_size=0.2, random_state=42)\n",
    "\n",
    "# Train decision tree classifier\n",
    "clf = DecisionTreeClassifier(random_state=42)\n",
    "clf.fit(X_train, y_train)\n",
    "\n",
    "# Get feature importances\n",
    "importances = clf.feature_importances_\n",
    "\n",
    "# Sort feature importances in descending order\n",
    "indices = np.argsort(importances)[::-1]\n",
    "\n",
    "# Print feature ranking\n",
    "print(\"Feature ranking:\")\n",
    "for f in range(X.shape[1]):\n",
    "    print(f\"{f + 1}. Feature {X.columns[indices[f]]} ({importances[indices[f]]})\")\n",
    "\n",
    "# Plot feature importances into a graph\n",
    "plt.figure(figsize=(10, 6))\n",
    "plt.title(\"Feature Importances\")\n",
    "plt.bar(range(X.shape[1]), importances[indices], align=\"center\")\n",
    "plt.xticks(range(X.shape[1]), X.columns[indices], rotation=90)\n",
    "plt.xlabel(\"Feature\")\n",
    "plt.ylabel(\"Feature Importance\")\n",
    "plt.tight_layout()\n",
    "plt.show()\n"
   ]
  },
  {
   "cell_type": "code",
   "execution_count": null,
   "id": "XBfHxjy-mbdW",
   "metadata": {
    "colab": {
     "base_uri": "https://localhost:8080/"
    },
    "id": "XBfHxjy-mbdW",
    "outputId": "be94ca52-eff6-4cc0-cd01-edb63e0b2331"
   },
   "outputs": [
    {
     "name": "stdout",
     "output_type": "stream",
     "text": [
      "<class 'pandas.core.frame.DataFrame'>\n",
      "Index: 538325 entries, 0 to 538460\n",
      "Data columns (total 29 columns):\n",
      " #   Column                                       Non-Null Count   Dtype  \n",
      "---  ------                                       --------------   -----  \n",
      " 0   accident_year                                538325 non-null  int64  \n",
      " 1   location_easting_osgr                        538325 non-null  float64\n",
      " 2   location_northing_osgr                       538325 non-null  float64\n",
      " 3   longitude                                    538325 non-null  float64\n",
      " 4   latitude                                     538325 non-null  float64\n",
      " 5   police_force                                 538325 non-null  int64  \n",
      " 6   accident_severity                            538325 non-null  int64  \n",
      " 7   number_of_vehicles                           538325 non-null  int64  \n",
      " 8   number_of_casualties                         538325 non-null  int64  \n",
      " 9   day_of_week                                  538325 non-null  int64  \n",
      " 10  local_authority_district                     538325 non-null  int64  \n",
      " 11  first_road_class                             538325 non-null  int64  \n",
      " 12  first_road_number                            538325 non-null  int64  \n",
      " 13  road_type                                    538325 non-null  int64  \n",
      " 14  speed_limit                                  538325 non-null  int64  \n",
      " 15  junction_detail                              538325 non-null  int64  \n",
      " 16  junction_control                             538325 non-null  int64  \n",
      " 17  second_road_class                            538325 non-null  int64  \n",
      " 18  second_road_number                           538325 non-null  int64  \n",
      " 19  pedestrian_crossing_human_control            538325 non-null  int64  \n",
      " 20  pedestrian_crossing_physical_facilities      538325 non-null  int64  \n",
      " 21  light_conditions                             538325 non-null  int64  \n",
      " 22  weather_conditions                           538325 non-null  int64  \n",
      " 23  road_surface_conditions                      538325 non-null  int64  \n",
      " 24  special_conditions_at_site                   538325 non-null  int64  \n",
      " 25  carriageway_hazards                          538325 non-null  int64  \n",
      " 26  urban_or_rural_area                          538325 non-null  int64  \n",
      " 27  did_police_officer_attend_scene_of_accident  538325 non-null  int64  \n",
      " 28  trunk_road_flag                              538325 non-null  int64  \n",
      "dtypes: float64(4), int64(25)\n",
      "memory usage: 123.2 MB\n"
     ]
    }
   ],
   "source": [
    "accident_severity_data.info()"
   ]
  },
  {
   "cell_type": "code",
   "execution_count": null,
   "id": "3ef55799",
   "metadata": {
    "colab": {
     "base_uri": "https://localhost:8080/"
    },
    "id": "3ef55799",
    "outputId": "f7e97476-335b-41d8-ac31-5993611978aa"
   },
   "outputs": [
    {
     "name": "stdout",
     "output_type": "stream",
     "text": [
      "Selected Features: ['latitude', 'location_northing_osgr', 'location_easting_osgr', 'longitude', 'day_of_week', 'first_road_number', 'accident_year', 'local_authority_district', 'junction_detail', 'speed_limit', 'number_of_vehicles', 'second_road_number', 'light_conditions', 'did_police_officer_attend_scene_of_accident', 'pedestrian_crossing_physical_facilities', 'weather_conditions', 'number_of_casualties', 'first_road_class', 'police_force', 'road_type', 'road_surface_conditions', 'second_road_class']\n"
     ]
    }
   ],
   "source": [
    "# After getting feature ranks in a dictionary or DataFrame\n",
    "feature_ranks = {\n",
    "                'latitude':0.12133598111593623,\n",
    "  'location_northing_osgr':0.12128995733171131,\n",
    "  'location_easting_osgr':0.11489469308900258,\n",
    "  'longitude':0.11408108360221374,\n",
    "  'day_of_week':0.06702836551623113,\n",
    "  'first_road_number':0.06650933750884097,\n",
    "  'accident_year':0.037781821272423945,\n",
    "  'local_authority_district': 0.03517937939017763,\n",
    "  'junction_detail': 0.029247817642437206,\n",
    "  'speed_limit': 0.024693086196270614,\n",
    "  'number_of_vehicles': 0.024372850148788816,\n",
    "  'second_road_number':0.024238741161551395,\n",
    "  'light_conditions':0.02257875440783453,\n",
    "  'did_police_officer_attend_scene_of_accident':0.022064172963805747,\n",
    "  'pedestrian_crossing_physical_facilities':0.021561360291462696,\n",
    "  'weather_conditions':0.020454269897313488,\n",
    "  'number_of_casualties':0.0190217387730733,\n",
    "  'first_road_class':0.0167278568748726,\n",
    "  'police_force':0.015672565063029765,\n",
    "  'road_type':0.015636695254973413,\n",
    "  'road_surface_conditions':0.014513242948597167,\n",
    "  'second_road_class':0.013352930670023785,\n",
    "  'junction_control':0.012173312203412178,\n",
    "  'urban_or_rural_area':0.0067627876615702675,\n",
    "  'special_conditions_at_site':0.006400223837927098,\n",
    "  'carriageway_hazards':0.0056970216579536204,\n",
    "  'pedestrian_crossing_human_control':0.0039657303768553245,\n",
    "  'trunk_road_flag':0.002764223141709361}\n",
    "\n",
    "# Set a threshold for feature selection\n",
    "threshold = 0.013\n",
    "\n",
    "# Select features above the threshold\n",
    "selected_features = [feature for feature, rank in feature_ranks.items() if rank >= threshold]\n",
    "\n",
    "# Create a subset of data with selected features\n",
    "subset_data = accident_severity_data[selected_features + ['accident_severity']]\n",
    "\n",
    "# Verify the selected features\n",
    "print(\"Selected Features:\", selected_features)"
   ]
  },
  {
   "cell_type": "code",
   "execution_count": null,
   "id": "c9574735",
   "metadata": {
    "colab": {
     "base_uri": "https://localhost:8080/"
    },
    "id": "c9574735",
    "outputId": "ee1abc3c-b807-40cc-abb9-9faa142f1ca5"
   },
   "outputs": [
    {
     "name": "stdout",
     "output_type": "stream",
     "text": [
      "    accident_index  accident_year accident_reference  location_easting_osgr  \\\n",
      "0  2018010000000.0           2018           10080971               529150.0   \n",
      "1  2018010000000.0           2018           10080973               542020.0   \n",
      "2  2018010000000.0           2018           10080974               531720.0   \n",
      "3  2018010000000.0           2018           10080981               541450.0   \n",
      "4  2018010000000.0           2018           10080982               543580.0   \n",
      "\n",
      "   location_northing_osgr  longitude   latitude  police_force  \\\n",
      "0                182270.0  -0.139737  51.524587             1   \n",
      "1                184290.0   0.046471  51.539651             1   \n",
      "2                182910.0  -0.102474  51.529746             1   \n",
      "3                183220.0   0.037828  51.530179             1   \n",
      "4                176500.0   0.065781  51.469258             1   \n",
      "\n",
      "   accident_severity  number_of_vehicles  ...  speed_limit junction_detail  \\\n",
      "0                  3                   2  ...           30               0   \n",
      "1                  3                   1  ...           30               2   \n",
      "2                  3                   2  ...           20               6   \n",
      "3                  2                   2  ...           30               7   \n",
      "4                  2                   2  ...           30               0   \n",
      "\n",
      "   second_road_class second_road_number  \\\n",
      "0                  0                 -1   \n",
      "1                  6                  0   \n",
      "2                  5                  0   \n",
      "3                  3                124   \n",
      "4                  0                 -1   \n",
      "\n",
      "   pedestrian_crossing_physical_facilities light_conditions  \\\n",
      "0                                        0                4   \n",
      "1                                        0                4   \n",
      "2                                        5                4   \n",
      "3                                        5                4   \n",
      "4                                        0                4   \n",
      "\n",
      "  weather_conditions  road_surface_conditions  \\\n",
      "0                  1                        1   \n",
      "1                  1                        1   \n",
      "2                  1                        1   \n",
      "3                  2                        2   \n",
      "4                  1                        2   \n",
      "\n",
      "   did_police_officer_attend_scene_of_accident  lsoa_of_accident_location  \n",
      "0                                            1                  E01000854  \n",
      "1                                            1                  E01003531  \n",
      "2                                            1                  E01002723  \n",
      "3                                            1                  E01003492  \n",
      "4                                            1                  E01001682  \n",
      "\n",
      "[5 rows x 30 columns]\n"
     ]
    }
   ],
   "source": [
    "# create reference of the DataFrame\n",
    "selected = pd.DataFrame(final_df)\n",
    "\n",
    "# drop columns with least rank\n",
    "selected = selected.drop(['junction_control','urban_or_rural_area','special_conditions_at_site','carriageway_hazards','pedestrian_crossing_human_control',\n",
    "                         'trunk_road_flag'], axis=1)\n",
    "print(selected.head())"
   ]
  },
  {
   "cell_type": "code",
   "execution_count": null,
   "id": "OZfCoWsEouvN",
   "metadata": {
    "id": "OZfCoWsEouvN"
   },
   "outputs": [],
   "source": []
  },
  {
   "cell_type": "code",
   "execution_count": null,
   "id": "bcoNezusKikI",
   "metadata": {
    "id": "bcoNezusKikI"
   },
   "outputs": [],
   "source": [
    "# Drop all the columns which does not contribute any value"
   ]
  },
  {
   "cell_type": "code",
   "execution_count": null,
   "id": "-BhwjL5QoR3M",
   "metadata": {
    "id": "-BhwjL5QoR3M"
   },
   "outputs": [],
   "source": [
    "selected.drop(columns=['longitude', 'latitude'],\n",
    "        axis=1, inplace=True)"
   ]
  },
  {
   "cell_type": "code",
   "execution_count": null,
   "id": "-ABL1uClowTW",
   "metadata": {
    "colab": {
     "base_uri": "https://localhost:8080/"
    },
    "id": "-ABL1uClowTW",
    "outputId": "d1a533b8-bde0-4cd8-c2b5-b7a9e7b0a543"
   },
   "outputs": [
    {
     "data": {
      "text/plain": [
       "Index(['accident_index', 'accident_reference', 'date', 'time',\n",
       "       'local_authority_ons_district', 'local_authority_highway',\n",
       "       'lsoa_of_accident_location'],\n",
       "      dtype='object')"
      ]
     },
     "execution_count": 17,
     "metadata": {},
     "output_type": "execute_result"
    }
   ],
   "source": [
    "cat_cols\n"
   ]
  },
  {
   "cell_type": "markdown",
   "id": "I6E0i4QLpAQw",
   "metadata": {
    "id": "I6E0i4QLpAQw"
   },
   "source": [
    "Accident_index, accident_reference,  is just a number and does not add any value to the accident data so drop that column"
   ]
  },
  {
   "cell_type": "code",
   "execution_count": null,
   "id": "Asbecb-3pB3O",
   "metadata": {
    "id": "Asbecb-3pB3O"
   },
   "outputs": [],
   "source": [
    "len(selected['accident_index'].unique())\n",
    "selected.drop('accident_index',axis=1,inplace=True)\n",
    "len(selected['accident_reference'].unique())\n",
    "selected.drop('accident_reference',axis=1,inplace=True)"
   ]
  },
  {
   "cell_type": "code",
   "execution_count": null,
   "id": "R3AHYt1gs024",
   "metadata": {
    "id": "R3AHYt1gs024"
   },
   "outputs": [],
   "source": [
    "len(selected['local_authority_ons_district'].unique())\n",
    "selected.drop('local_authority_ons_district',axis=1,inplace=True)"
   ]
  },
  {
   "cell_type": "code",
   "execution_count": null,
   "id": "_VnFUttAtGzr",
   "metadata": {
    "id": "_VnFUttAtGzr"
   },
   "outputs": [],
   "source": [
    "len(selected['local_authority_highway'].unique())\n",
    "selected.drop('local_authority_highway',axis=1,inplace=True)"
   ]
  },
  {
   "cell_type": "code",
   "execution_count": null,
   "id": "aN4mWsiWtDBc",
   "metadata": {
    "id": "aN4mWsiWtDBc"
   },
   "outputs": [],
   "source": [
    "len(selected['lsoa_of_accident_location'].unique())\n",
    "selected.drop('lsoa_of_accident_location',axis=1,inplace=True)"
   ]
  },
  {
   "cell_type": "markdown",
   "id": "fb1812bd",
   "metadata": {
    "id": "fb1812bd",
    "outputId": "a323efad-aa4d-4627-d921-e630d5f646ad"
   },
   "source": [
    "optimising date and time fields"
   ]
  },
  {
   "cell_type": "code",
   "execution_count": null,
   "id": "vPnVHyj-qLP-",
   "metadata": {
    "colab": {
     "base_uri": "https://localhost:8080/"
    },
    "id": "vPnVHyj-qLP-",
    "outputId": "d5e36b41-0e48-4f77-d617-b2e5c010fccc"
   },
   "outputs": [
    {
     "name": "stdout",
     "output_type": "stream",
     "text": [
      "['date', 'time']\n"
     ]
    }
   ],
   "source": [
    "#identifies column with object datatype\n",
    "cat_cols=[feature for feature in selected.columns if selected[feature].dtype=='O']\n",
    "print(cat_cols)"
   ]
  },
  {
   "cell_type": "code",
   "execution_count": null,
   "id": "FcHOCE9QqdUD",
   "metadata": {
    "colab": {
     "base_uri": "https://localhost:8080/"
    },
    "id": "FcHOCE9QqdUD",
    "outputId": "0b4982a7-603b-49a6-a297-ed2b1f8bec0d"
   },
   "outputs": [
    {
     "name": "stdout",
     "output_type": "stream",
     "text": [
      "<class 'pandas.core.frame.DataFrame'>\n",
      "Index: 538325 entries, 0 to 538460\n",
      "Data columns (total 23 columns):\n",
      " #   Column                                       Non-Null Count   Dtype  \n",
      "---  ------                                       --------------   -----  \n",
      " 0   accident_year                                538325 non-null  int64  \n",
      " 1   location_easting_osgr                        538325 non-null  float64\n",
      " 2   location_northing_osgr                       538325 non-null  float64\n",
      " 3   police_force                                 538325 non-null  int64  \n",
      " 4   accident_severity                            538325 non-null  int64  \n",
      " 5   number_of_vehicles                           538325 non-null  int64  \n",
      " 6   number_of_casualties                         538325 non-null  int64  \n",
      " 7   date                                         538325 non-null  object \n",
      " 8   day_of_week                                  538325 non-null  int64  \n",
      " 9   time                                         538325 non-null  object \n",
      " 10  local_authority_district                     538325 non-null  int64  \n",
      " 11  first_road_class                             538325 non-null  int64  \n",
      " 12  first_road_number                            538325 non-null  int64  \n",
      " 13  road_type                                    538325 non-null  int64  \n",
      " 14  speed_limit                                  538325 non-null  int64  \n",
      " 15  junction_detail                              538325 non-null  int64  \n",
      " 16  second_road_class                            538325 non-null  int64  \n",
      " 17  second_road_number                           538325 non-null  int64  \n",
      " 18  pedestrian_crossing_physical_facilities      538325 non-null  int64  \n",
      " 19  light_conditions                             538325 non-null  int64  \n",
      " 20  weather_conditions                           538325 non-null  int64  \n",
      " 21  road_surface_conditions                      538325 non-null  int64  \n",
      " 22  did_police_officer_attend_scene_of_accident  538325 non-null  int64  \n",
      "dtypes: float64(2), int64(19), object(2)\n",
      "memory usage: 98.6+ MB\n"
     ]
    }
   ],
   "source": [
    "selected.info()"
   ]
  },
  {
   "cell_type": "markdown",
   "id": "65ef1e20",
   "metadata": {
    "id": "65ef1e20"
   },
   "source": [
    "Drop columns which does not add any value"
   ]
  },
  {
   "cell_type": "code",
   "execution_count": null,
   "id": "kMuJDFHqtxdJ",
   "metadata": {
    "id": "kMuJDFHqtxdJ"
   },
   "outputs": [],
   "source": [
    "selected.drop('accident_year',axis=1,inplace=True)\n"
   ]
  },
  {
   "cell_type": "code",
   "execution_count": null,
   "id": "pZhW1pkHt45v",
   "metadata": {
    "id": "pZhW1pkHt45v"
   },
   "outputs": [],
   "source": [
    "# convert date field into datetime data type and extract day month and year as separate columns\n",
    "\n",
    "selected['date'] = pd.to_datetime(selected['date'], format='%d-%m-%Y')\n",
    "selected[\"day\"] = selected['date'].dt.day\n",
    "selected[\"month\"] = selected['date'].dt.month\n",
    "selected[\"year\"] = selected['date'].dt.year"
   ]
  },
  {
   "cell_type": "code",
   "execution_count": null,
   "id": "d5jM6uopvsbU",
   "metadata": {
    "id": "d5jM6uopvsbU"
   },
   "outputs": [],
   "source": [
    "selected.drop(\"date\",axis=1,inplace=True)\n",
    "selected.drop(\"time\",axis=1,inplace=True)"
   ]
  },
  {
   "cell_type": "code",
   "execution_count": null,
   "id": "f7c5003c",
   "metadata": {
    "id": "f7c5003c"
   },
   "outputs": [],
   "source": [
    "selected.drop(\"location_easting_osgr\",axis=1,inplace=True)\n",
    "selected.drop(\"location_northing_osgr\",axis=1,inplace=True)"
   ]
  },
  {
   "cell_type": "code",
   "execution_count": null,
   "id": "5b6a1d79",
   "metadata": {
    "id": "5b6a1d79"
   },
   "outputs": [],
   "source": [
    "selected.drop(\"local_authority_district\",axis=1,inplace=True)\n",
    "selected.drop(\"first_road_class\",axis=1,inplace=True)\n",
    "selected.drop(\"first_road_number\",axis=1,inplace=True)\n",
    "selected.drop(\"second_road_class\",axis=1,inplace=True)\n",
    "selected.drop(\"second_road_number\",axis=1,inplace=True)\n"
   ]
  },
  {
   "cell_type": "code",
   "execution_count": null,
   "id": "kXAgvU0nwJFf",
   "metadata": {
    "colab": {
     "base_uri": "https://localhost:8080/",
     "height": 226
    },
    "id": "kXAgvU0nwJFf",
    "outputId": "5a562b76-10ac-45e3-c416-14b28083355c"
   },
   "outputs": [
    {
     "data": {
      "application/vnd.google.colaboratory.intrinsic+json": {
       "type": "dataframe",
       "variable_name": "selected"
      },
      "text/html": [
       "\n",
       "  <div id=\"df-2f13632d-74f6-4462-a30d-1258f75d40f0\" class=\"colab-df-container\">\n",
       "    <div>\n",
       "<style scoped>\n",
       "    .dataframe tbody tr th:only-of-type {\n",
       "        vertical-align: middle;\n",
       "    }\n",
       "\n",
       "    .dataframe tbody tr th {\n",
       "        vertical-align: top;\n",
       "    }\n",
       "\n",
       "    .dataframe thead th {\n",
       "        text-align: right;\n",
       "    }\n",
       "</style>\n",
       "<table border=\"1\" class=\"dataframe\">\n",
       "  <thead>\n",
       "    <tr style=\"text-align: right;\">\n",
       "      <th></th>\n",
       "      <th>police_force</th>\n",
       "      <th>accident_severity</th>\n",
       "      <th>number_of_vehicles</th>\n",
       "      <th>number_of_casualties</th>\n",
       "      <th>day_of_week</th>\n",
       "      <th>road_type</th>\n",
       "      <th>speed_limit</th>\n",
       "      <th>pedestrian_crossing_physical_facilities</th>\n",
       "      <th>light_conditions</th>\n",
       "      <th>weather_conditions</th>\n",
       "      <th>road_surface_conditions</th>\n",
       "      <th>did_police_officer_attend_scene_of_accident</th>\n",
       "      <th>day</th>\n",
       "      <th>month</th>\n",
       "      <th>year</th>\n",
       "    </tr>\n",
       "  </thead>\n",
       "  <tbody>\n",
       "    <tr>\n",
       "      <th>0</th>\n",
       "      <td>1</td>\n",
       "      <td>3</td>\n",
       "      <td>2</td>\n",
       "      <td>2</td>\n",
       "      <td>2</td>\n",
       "      <td>3</td>\n",
       "      <td>30</td>\n",
       "      <td>0</td>\n",
       "      <td>4</td>\n",
       "      <td>1</td>\n",
       "      <td>1</td>\n",
       "      <td>1</td>\n",
       "      <td>1</td>\n",
       "      <td>1</td>\n",
       "      <td>2018</td>\n",
       "    </tr>\n",
       "    <tr>\n",
       "      <th>1</th>\n",
       "      <td>1</td>\n",
       "      <td>3</td>\n",
       "      <td>1</td>\n",
       "      <td>1</td>\n",
       "      <td>2</td>\n",
       "      <td>6</td>\n",
       "      <td>30</td>\n",
       "      <td>0</td>\n",
       "      <td>4</td>\n",
       "      <td>1</td>\n",
       "      <td>1</td>\n",
       "      <td>1</td>\n",
       "      <td>1</td>\n",
       "      <td>1</td>\n",
       "      <td>2018</td>\n",
       "    </tr>\n",
       "    <tr>\n",
       "      <th>2</th>\n",
       "      <td>1</td>\n",
       "      <td>3</td>\n",
       "      <td>2</td>\n",
       "      <td>1</td>\n",
       "      <td>2</td>\n",
       "      <td>6</td>\n",
       "      <td>20</td>\n",
       "      <td>5</td>\n",
       "      <td>4</td>\n",
       "      <td>1</td>\n",
       "      <td>1</td>\n",
       "      <td>1</td>\n",
       "      <td>1</td>\n",
       "      <td>1</td>\n",
       "      <td>2018</td>\n",
       "    </tr>\n",
       "    <tr>\n",
       "      <th>3</th>\n",
       "      <td>1</td>\n",
       "      <td>2</td>\n",
       "      <td>2</td>\n",
       "      <td>1</td>\n",
       "      <td>2</td>\n",
       "      <td>3</td>\n",
       "      <td>30</td>\n",
       "      <td>5</td>\n",
       "      <td>4</td>\n",
       "      <td>2</td>\n",
       "      <td>2</td>\n",
       "      <td>1</td>\n",
       "      <td>1</td>\n",
       "      <td>1</td>\n",
       "      <td>2018</td>\n",
       "    </tr>\n",
       "    <tr>\n",
       "      <th>4</th>\n",
       "      <td>1</td>\n",
       "      <td>2</td>\n",
       "      <td>2</td>\n",
       "      <td>2</td>\n",
       "      <td>2</td>\n",
       "      <td>6</td>\n",
       "      <td>30</td>\n",
       "      <td>0</td>\n",
       "      <td>4</td>\n",
       "      <td>1</td>\n",
       "      <td>2</td>\n",
       "      <td>1</td>\n",
       "      <td>1</td>\n",
       "      <td>1</td>\n",
       "      <td>2018</td>\n",
       "    </tr>\n",
       "  </tbody>\n",
       "</table>\n",
       "</div>\n",
       "    <div class=\"colab-df-buttons\">\n",
       "\n",
       "  <div class=\"colab-df-container\">\n",
       "    <button class=\"colab-df-convert\" onclick=\"convertToInteractive('df-2f13632d-74f6-4462-a30d-1258f75d40f0')\"\n",
       "            title=\"Convert this dataframe to an interactive table.\"\n",
       "            style=\"display:none;\">\n",
       "\n",
       "  <svg xmlns=\"http://www.w3.org/2000/svg\" height=\"24px\" viewBox=\"0 -960 960 960\">\n",
       "    <path d=\"M120-120v-720h720v720H120Zm60-500h600v-160H180v160Zm220 220h160v-160H400v160Zm0 220h160v-160H400v160ZM180-400h160v-160H180v160Zm440 0h160v-160H620v160ZM180-180h160v-160H180v160Zm440 0h160v-160H620v160Z\"/>\n",
       "  </svg>\n",
       "    </button>\n",
       "\n",
       "  <style>\n",
       "    .colab-df-container {\n",
       "      display:flex;\n",
       "      gap: 12px;\n",
       "    }\n",
       "\n",
       "    .colab-df-convert {\n",
       "      background-color: #E8F0FE;\n",
       "      border: none;\n",
       "      border-radius: 50%;\n",
       "      cursor: pointer;\n",
       "      display: none;\n",
       "      fill: #1967D2;\n",
       "      height: 32px;\n",
       "      padding: 0 0 0 0;\n",
       "      width: 32px;\n",
       "    }\n",
       "\n",
       "    .colab-df-convert:hover {\n",
       "      background-color: #E2EBFA;\n",
       "      box-shadow: 0px 1px 2px rgba(60, 64, 67, 0.3), 0px 1px 3px 1px rgba(60, 64, 67, 0.15);\n",
       "      fill: #174EA6;\n",
       "    }\n",
       "\n",
       "    .colab-df-buttons div {\n",
       "      margin-bottom: 4px;\n",
       "    }\n",
       "\n",
       "    [theme=dark] .colab-df-convert {\n",
       "      background-color: #3B4455;\n",
       "      fill: #D2E3FC;\n",
       "    }\n",
       "\n",
       "    [theme=dark] .colab-df-convert:hover {\n",
       "      background-color: #434B5C;\n",
       "      box-shadow: 0px 1px 3px 1px rgba(0, 0, 0, 0.15);\n",
       "      filter: drop-shadow(0px 1px 2px rgba(0, 0, 0, 0.3));\n",
       "      fill: #FFFFFF;\n",
       "    }\n",
       "  </style>\n",
       "\n",
       "    <script>\n",
       "      const buttonEl =\n",
       "        document.querySelector('#df-2f13632d-74f6-4462-a30d-1258f75d40f0 button.colab-df-convert');\n",
       "      buttonEl.style.display =\n",
       "        google.colab.kernel.accessAllowed ? 'block' : 'none';\n",
       "\n",
       "      async function convertToInteractive(key) {\n",
       "        const element = document.querySelector('#df-2f13632d-74f6-4462-a30d-1258f75d40f0');\n",
       "        const dataTable =\n",
       "          await google.colab.kernel.invokeFunction('convertToInteractive',\n",
       "                                                    [key], {});\n",
       "        if (!dataTable) return;\n",
       "\n",
       "        const docLinkHtml = 'Like what you see? Visit the ' +\n",
       "          '<a target=\"_blank\" href=https://colab.research.google.com/notebooks/data_table.ipynb>data table notebook</a>'\n",
       "          + ' to learn more about interactive tables.';\n",
       "        element.innerHTML = '';\n",
       "        dataTable['output_type'] = 'display_data';\n",
       "        await google.colab.output.renderOutput(dataTable, element);\n",
       "        const docLink = document.createElement('div');\n",
       "        docLink.innerHTML = docLinkHtml;\n",
       "        element.appendChild(docLink);\n",
       "      }\n",
       "    </script>\n",
       "  </div>\n",
       "\n",
       "\n",
       "<div id=\"df-7fca0d9a-828d-4167-a7a7-1a17a247914c\">\n",
       "  <button class=\"colab-df-quickchart\" onclick=\"quickchart('df-7fca0d9a-828d-4167-a7a7-1a17a247914c')\"\n",
       "            title=\"Suggest charts\"\n",
       "            style=\"display:none;\">\n",
       "\n",
       "<svg xmlns=\"http://www.w3.org/2000/svg\" height=\"24px\"viewBox=\"0 0 24 24\"\n",
       "     width=\"24px\">\n",
       "    <g>\n",
       "        <path d=\"M19 3H5c-1.1 0-2 .9-2 2v14c0 1.1.9 2 2 2h14c1.1 0 2-.9 2-2V5c0-1.1-.9-2-2-2zM9 17H7v-7h2v7zm4 0h-2V7h2v10zm4 0h-2v-4h2v4z\"/>\n",
       "    </g>\n",
       "</svg>\n",
       "  </button>\n",
       "\n",
       "<style>\n",
       "  .colab-df-quickchart {\n",
       "      --bg-color: #E8F0FE;\n",
       "      --fill-color: #1967D2;\n",
       "      --hover-bg-color: #E2EBFA;\n",
       "      --hover-fill-color: #174EA6;\n",
       "      --disabled-fill-color: #AAA;\n",
       "      --disabled-bg-color: #DDD;\n",
       "  }\n",
       "\n",
       "  [theme=dark] .colab-df-quickchart {\n",
       "      --bg-color: #3B4455;\n",
       "      --fill-color: #D2E3FC;\n",
       "      --hover-bg-color: #434B5C;\n",
       "      --hover-fill-color: #FFFFFF;\n",
       "      --disabled-bg-color: #3B4455;\n",
       "      --disabled-fill-color: #666;\n",
       "  }\n",
       "\n",
       "  .colab-df-quickchart {\n",
       "    background-color: var(--bg-color);\n",
       "    border: none;\n",
       "    border-radius: 50%;\n",
       "    cursor: pointer;\n",
       "    display: none;\n",
       "    fill: var(--fill-color);\n",
       "    height: 32px;\n",
       "    padding: 0;\n",
       "    width: 32px;\n",
       "  }\n",
       "\n",
       "  .colab-df-quickchart:hover {\n",
       "    background-color: var(--hover-bg-color);\n",
       "    box-shadow: 0 1px 2px rgba(60, 64, 67, 0.3), 0 1px 3px 1px rgba(60, 64, 67, 0.15);\n",
       "    fill: var(--button-hover-fill-color);\n",
       "  }\n",
       "\n",
       "  .colab-df-quickchart-complete:disabled,\n",
       "  .colab-df-quickchart-complete:disabled:hover {\n",
       "    background-color: var(--disabled-bg-color);\n",
       "    fill: var(--disabled-fill-color);\n",
       "    box-shadow: none;\n",
       "  }\n",
       "\n",
       "  .colab-df-spinner {\n",
       "    border: 2px solid var(--fill-color);\n",
       "    border-color: transparent;\n",
       "    border-bottom-color: var(--fill-color);\n",
       "    animation:\n",
       "      spin 1s steps(1) infinite;\n",
       "  }\n",
       "\n",
       "  @keyframes spin {\n",
       "    0% {\n",
       "      border-color: transparent;\n",
       "      border-bottom-color: var(--fill-color);\n",
       "      border-left-color: var(--fill-color);\n",
       "    }\n",
       "    20% {\n",
       "      border-color: transparent;\n",
       "      border-left-color: var(--fill-color);\n",
       "      border-top-color: var(--fill-color);\n",
       "    }\n",
       "    30% {\n",
       "      border-color: transparent;\n",
       "      border-left-color: var(--fill-color);\n",
       "      border-top-color: var(--fill-color);\n",
       "      border-right-color: var(--fill-color);\n",
       "    }\n",
       "    40% {\n",
       "      border-color: transparent;\n",
       "      border-right-color: var(--fill-color);\n",
       "      border-top-color: var(--fill-color);\n",
       "    }\n",
       "    60% {\n",
       "      border-color: transparent;\n",
       "      border-right-color: var(--fill-color);\n",
       "    }\n",
       "    80% {\n",
       "      border-color: transparent;\n",
       "      border-right-color: var(--fill-color);\n",
       "      border-bottom-color: var(--fill-color);\n",
       "    }\n",
       "    90% {\n",
       "      border-color: transparent;\n",
       "      border-bottom-color: var(--fill-color);\n",
       "    }\n",
       "  }\n",
       "</style>\n",
       "\n",
       "  <script>\n",
       "    async function quickchart(key) {\n",
       "      const quickchartButtonEl =\n",
       "        document.querySelector('#' + key + ' button');\n",
       "      quickchartButtonEl.disabled = true;  // To prevent multiple clicks.\n",
       "      quickchartButtonEl.classList.add('colab-df-spinner');\n",
       "      try {\n",
       "        const charts = await google.colab.kernel.invokeFunction(\n",
       "            'suggestCharts', [key], {});\n",
       "      } catch (error) {\n",
       "        console.error('Error during call to suggestCharts:', error);\n",
       "      }\n",
       "      quickchartButtonEl.classList.remove('colab-df-spinner');\n",
       "      quickchartButtonEl.classList.add('colab-df-quickchart-complete');\n",
       "    }\n",
       "    (() => {\n",
       "      let quickchartButtonEl =\n",
       "        document.querySelector('#df-7fca0d9a-828d-4167-a7a7-1a17a247914c button');\n",
       "      quickchartButtonEl.style.display =\n",
       "        google.colab.kernel.accessAllowed ? 'block' : 'none';\n",
       "    })();\n",
       "  </script>\n",
       "</div>\n",
       "    </div>\n",
       "  </div>\n"
      ],
      "text/plain": [
       "   police_force  accident_severity  number_of_vehicles  number_of_casualties  \\\n",
       "0             1                  3                   2                     2   \n",
       "1             1                  3                   1                     1   \n",
       "2             1                  3                   2                     1   \n",
       "3             1                  2                   2                     1   \n",
       "4             1                  2                   2                     2   \n",
       "\n",
       "   day_of_week  road_type  speed_limit  \\\n",
       "0            2          3           30   \n",
       "1            2          6           30   \n",
       "2            2          6           20   \n",
       "3            2          3           30   \n",
       "4            2          6           30   \n",
       "\n",
       "   pedestrian_crossing_physical_facilities  light_conditions  \\\n",
       "0                                        0                 4   \n",
       "1                                        0                 4   \n",
       "2                                        5                 4   \n",
       "3                                        5                 4   \n",
       "4                                        0                 4   \n",
       "\n",
       "   weather_conditions  road_surface_conditions  \\\n",
       "0                   1                        1   \n",
       "1                   1                        1   \n",
       "2                   1                        1   \n",
       "3                   2                        2   \n",
       "4                   1                        2   \n",
       "\n",
       "   did_police_officer_attend_scene_of_accident  day  month  year  \n",
       "0                                            1    1      1  2018  \n",
       "1                                            1    1      1  2018  \n",
       "2                                            1    1      1  2018  \n",
       "3                                            1    1      1  2018  \n",
       "4                                            1    1      1  2018  "
      ]
     },
     "execution_count": 29,
     "metadata": {},
     "output_type": "execute_result"
    }
   ],
   "source": [
    "selected.drop(\"junction_detail\",axis=1,inplace=True)\n",
    "selected.head()"
   ]
  },
  {
   "cell_type": "markdown",
   "id": "ebe44971",
   "metadata": {
    "id": "ebe44971"
   },
   "source": [
    "view final features after performing feature selection"
   ]
  },
  {
   "cell_type": "code",
   "execution_count": null,
   "id": "80c1fd60",
   "metadata": {
    "colab": {
     "base_uri": "https://localhost:8080/"
    },
    "id": "80c1fd60",
    "outputId": "d8ae2cba-add0-4b25-aa07-c7b756a319a7"
   },
   "outputs": [
    {
     "name": "stdout",
     "output_type": "stream",
     "text": [
      "<class 'pandas.core.frame.DataFrame'>\n",
      "Index: 538325 entries, 0 to 538460\n",
      "Data columns (total 15 columns):\n",
      " #   Column                                       Non-Null Count   Dtype\n",
      "---  ------                                       --------------   -----\n",
      " 0   police_force                                 538325 non-null  int64\n",
      " 1   accident_severity                            538325 non-null  int64\n",
      " 2   number_of_vehicles                           538325 non-null  int64\n",
      " 3   number_of_casualties                         538325 non-null  int64\n",
      " 4   day_of_week                                  538325 non-null  int64\n",
      " 5   road_type                                    538325 non-null  int64\n",
      " 6   speed_limit                                  538325 non-null  int64\n",
      " 7   pedestrian_crossing_physical_facilities      538325 non-null  int64\n",
      " 8   light_conditions                             538325 non-null  int64\n",
      " 9   weather_conditions                           538325 non-null  int64\n",
      " 10  road_surface_conditions                      538325 non-null  int64\n",
      " 11  did_police_officer_attend_scene_of_accident  538325 non-null  int64\n",
      " 12  day                                          538325 non-null  int32\n",
      " 13  month                                        538325 non-null  int32\n",
      " 14  year                                         538325 non-null  int32\n",
      "dtypes: int32(3), int64(12)\n",
      "memory usage: 59.6 MB\n"
     ]
    }
   ],
   "source": [
    "selected.info()"
   ]
  },
  {
   "cell_type": "raw",
   "id": "9ab234f6",
   "metadata": {
    "id": "9ab234f6"
   },
   "source": [
    "Splitting the dataset into training and testing"
   ]
  },
  {
   "cell_type": "code",
   "execution_count": null,
   "id": "73ef8f41",
   "metadata": {
    "id": "73ef8f41"
   },
   "outputs": [],
   "source": [
    "\n",
    "#separate target variable and independent variables\n",
    "features = [feature for feature in selected.columns if feature!='accident_severity']\n",
    "\n",
    "# x stores all independent variables y stores target variable\n",
    "# inorder to save computational time we can even use iloc function used to take instance of rows\n",
    "x = selected[features]\n",
    "y = selected['accident_severity']\n",
    "\n",
    "# standardizing independent variables using standardScalar\n",
    "x = StandardScaler().fit_transform(x)"
   ]
  },
  {
   "cell_type": "code",
   "execution_count": null,
   "id": "FDrfUVaBw9CA",
   "metadata": {
    "id": "FDrfUVaBw9CA"
   },
   "outputs": [],
   "source": [
    "#RandomOverSampler to oversample the minority class in the target variable y.\n",
    "#The fit_resample method is called to perform the oversampling\n",
    "#it returns the resampled feature matrix x and the corresponding resampled target vector y\n",
    "oversample = RandomOverSampler()\n",
    "x, y = oversample.fit_resample(x, y)"
   ]
  },
  {
   "cell_type": "code",
   "execution_count": null,
   "id": "wmm8OOTHxrMW",
   "metadata": {
    "id": "wmm8OOTHxrMW"
   },
   "outputs": [],
   "source": []
  },
  {
   "cell_type": "code",
   "execution_count": null,
   "id": "c08ae642",
   "metadata": {
    "id": "c08ae642"
   },
   "outputs": [],
   "source": [
    "# x with all the independent variables y with target variable\n",
    "# Split the data into training and testing sets\n",
    "x_train, x_test, y_train, y_test = train_test_split(x, y, test_size=0.2, random_state=42)\n",
    "\n",
    "# In order to avoid data leakage we apply SMOTE to the training data\n",
    "smote = SMOTE(random_state=42)\n",
    "x_train_resampled, y_train_resampled = smote.fit_resample(x_train, y_train)"
   ]
  },
  {
   "cell_type": "code",
   "execution_count": null,
   "id": "c9e40c63",
   "metadata": {
    "colab": {
     "base_uri": "https://localhost:8080/",
     "height": 74
    },
    "id": "c9e40c63",
    "outputId": "5a004241-1777-42f8-dece-15b67645d605"
   },
   "outputs": [
    {
     "data": {
      "text/html": [
       "<style>#sk-container-id-1 {color: black;background-color: white;}#sk-container-id-1 pre{padding: 0;}#sk-container-id-1 div.sk-toggleable {background-color: white;}#sk-container-id-1 label.sk-toggleable__label {cursor: pointer;display: block;width: 100%;margin-bottom: 0;padding: 0.3em;box-sizing: border-box;text-align: center;}#sk-container-id-1 label.sk-toggleable__label-arrow:before {content: \"▸\";float: left;margin-right: 0.25em;color: #696969;}#sk-container-id-1 label.sk-toggleable__label-arrow:hover:before {color: black;}#sk-container-id-1 div.sk-estimator:hover label.sk-toggleable__label-arrow:before {color: black;}#sk-container-id-1 div.sk-toggleable__content {max-height: 0;max-width: 0;overflow: hidden;text-align: left;background-color: #f0f8ff;}#sk-container-id-1 div.sk-toggleable__content pre {margin: 0.2em;color: black;border-radius: 0.25em;background-color: #f0f8ff;}#sk-container-id-1 input.sk-toggleable__control:checked~div.sk-toggleable__content {max-height: 200px;max-width: 100%;overflow: auto;}#sk-container-id-1 input.sk-toggleable__control:checked~label.sk-toggleable__label-arrow:before {content: \"▾\";}#sk-container-id-1 div.sk-estimator input.sk-toggleable__control:checked~label.sk-toggleable__label {background-color: #d4ebff;}#sk-container-id-1 div.sk-label input.sk-toggleable__control:checked~label.sk-toggleable__label {background-color: #d4ebff;}#sk-container-id-1 input.sk-hidden--visually {border: 0;clip: rect(1px 1px 1px 1px);clip: rect(1px, 1px, 1px, 1px);height: 1px;margin: -1px;overflow: hidden;padding: 0;position: absolute;width: 1px;}#sk-container-id-1 div.sk-estimator {font-family: monospace;background-color: #f0f8ff;border: 1px dotted black;border-radius: 0.25em;box-sizing: border-box;margin-bottom: 0.5em;}#sk-container-id-1 div.sk-estimator:hover {background-color: #d4ebff;}#sk-container-id-1 div.sk-parallel-item::after {content: \"\";width: 100%;border-bottom: 1px solid gray;flex-grow: 1;}#sk-container-id-1 div.sk-label:hover label.sk-toggleable__label {background-color: #d4ebff;}#sk-container-id-1 div.sk-serial::before {content: \"\";position: absolute;border-left: 1px solid gray;box-sizing: border-box;top: 0;bottom: 0;left: 50%;z-index: 0;}#sk-container-id-1 div.sk-serial {display: flex;flex-direction: column;align-items: center;background-color: white;padding-right: 0.2em;padding-left: 0.2em;position: relative;}#sk-container-id-1 div.sk-item {position: relative;z-index: 1;}#sk-container-id-1 div.sk-parallel {display: flex;align-items: stretch;justify-content: center;background-color: white;position: relative;}#sk-container-id-1 div.sk-item::before, #sk-container-id-1 div.sk-parallel-item::before {content: \"\";position: absolute;border-left: 1px solid gray;box-sizing: border-box;top: 0;bottom: 0;left: 50%;z-index: -1;}#sk-container-id-1 div.sk-parallel-item {display: flex;flex-direction: column;z-index: 1;position: relative;background-color: white;}#sk-container-id-1 div.sk-parallel-item:first-child::after {align-self: flex-end;width: 50%;}#sk-container-id-1 div.sk-parallel-item:last-child::after {align-self: flex-start;width: 50%;}#sk-container-id-1 div.sk-parallel-item:only-child::after {width: 0;}#sk-container-id-1 div.sk-dashed-wrapped {border: 1px dashed gray;margin: 0 0.4em 0.5em 0.4em;box-sizing: border-box;padding-bottom: 0.4em;background-color: white;}#sk-container-id-1 div.sk-label label {font-family: monospace;font-weight: bold;display: inline-block;line-height: 1.2em;}#sk-container-id-1 div.sk-label-container {text-align: center;}#sk-container-id-1 div.sk-container {/* jupyter's `normalize.less` sets `[hidden] { display: none; }` but bootstrap.min.css set `[hidden] { display: none !important; }` so we also need the `!important` here to be able to override the default hidden behavior on the sphinx rendered scikit-learn.org. See: https://github.com/scikit-learn/scikit-learn/issues/21755 */display: inline-block !important;position: relative;}#sk-container-id-1 div.sk-text-repr-fallback {display: none;}</style><div id=\"sk-container-id-1\" class=\"sk-top-container\"><div class=\"sk-text-repr-fallback\"><pre>ExtraTreesClassifier()</pre><b>In a Jupyter environment, please rerun this cell to show the HTML representation or trust the notebook. <br />On GitHub, the HTML representation is unable to render, please try loading this page with nbviewer.org.</b></div><div class=\"sk-container\" hidden><div class=\"sk-item\"><div class=\"sk-estimator sk-toggleable\"><input class=\"sk-toggleable__control sk-hidden--visually\" id=\"sk-estimator-id-1\" type=\"checkbox\" checked><label for=\"sk-estimator-id-1\" class=\"sk-toggleable__label sk-toggleable__label-arrow\">ExtraTreesClassifier</label><div class=\"sk-toggleable__content\"><pre>ExtraTreesClassifier()</pre></div></div></div></div></div>"
      ],
      "text/plain": [
       "ExtraTreesClassifier()"
      ]
     },
     "execution_count": 34,
     "metadata": {},
     "output_type": "execute_result"
    }
   ],
   "source": [
    "# Create Instance of ExtraTreeClassifier\n",
    "clf = ExtraTreesClassifier()\n",
    "# Fit the model\n",
    "clf.fit(x_train_resampled, y_train_resampled)"
   ]
  },
  {
   "cell_type": "code",
   "execution_count": null,
   "id": "2fc56426",
   "metadata": {
    "id": "2fc56426"
   },
   "outputs": [],
   "source": [
    "# Predict Lables on test data\n",
    "preds=clf.predict(x_test)"
   ]
  },
  {
   "cell_type": "code",
   "execution_count": null,
   "id": "ee990fa0",
   "metadata": {
    "colab": {
     "base_uri": "https://localhost:8080/"
    },
    "id": "ee990fa0",
    "outputId": "ab21717f-2593-4d43-e86e-ff4eb1155ddc"
   },
   "outputs": [
    {
     "name": "stdout",
     "output_type": "stream",
     "text": [
      "   Accuracy Score\n",
      "0        0.952293\n"
     ]
    }
   ],
   "source": [
    "# Evaluate model accuaracy\n",
    "score=accuracy_score(y_test,preds)\n",
    "extratree = pd.DataFrame({'Accuracy Score': [score]})\n",
    "#extratree.to_csv('extratree.csv', index=False)\n",
    "print(extratree)\n"
   ]
  },
  {
   "cell_type": "code",
   "execution_count": null,
   "id": "26125ace",
   "metadata": {
    "colab": {
     "base_uri": "https://localhost:8080/",
     "height": 366
    },
    "id": "26125ace",
    "outputId": "8d2ad787-d854-45b7-fa17-7ff129207996"
   },
   "outputs": [
    {
     "name": "stdout",
     "output_type": "stream",
     "text": [
      "[[84461     0     0]\n",
      " [  139 80732  3334]\n",
      " [  242  8244 75832]]\n"
     ]
    },
    {
     "data": {
      "image/png": "[encoded data removed]",
      "text/plain": [
       "<Figure size 1000x300 with 1 Axes>"
      ]
     },
     "metadata": {},
     "output_type": "display_data"
    }
   ],
   "source": [
    "fig = plt.figure(figsize=(10,3))\n",
    "conmat = confusion_matrix(y_test, preds)\n",
    "sns.heatmap(conmat, annot=True, cbar=False)\n",
    "print(conmat)\n",
    "plt.title(\"Confusion Matrix\")\n",
    "plt.show()"
   ]
  },
  {
   "cell_type": "code",
   "execution_count": null,
   "id": "f0dc9262",
   "metadata": {
    "id": "f0dc9262"
   },
   "outputs": [],
   "source": []
  },
  {
   "cell_type": "code",
   "execution_count": null,
   "id": "74899e52",
   "metadata": {
    "colab": {
     "base_uri": "https://localhost:8080/"
    },
    "id": "74899e52",
    "outputId": "bec6e44f-7758-4b2f-f138-778311bd0ee5"
   },
   "outputs": [
    {
     "name": "stdout",
     "output_type": "stream",
     "text": [
      "              precision    recall  f1-score   support\n",
      "\n",
      "           1       1.00      1.00      1.00     84461\n",
      "           2       0.91      0.96      0.93     84205\n",
      "           3       0.96      0.90      0.93     84318\n",
      "\n",
      "    accuracy                           0.95    252984\n",
      "   macro avg       0.95      0.95      0.95    252984\n",
      "weighted avg       0.95      0.95      0.95    252984\n",
      "\n"
     ]
    }
   ],
   "source": [
    "# Function used from scikit-learn to generate classification report to evaluate performance\n",
    "print(classification_report(y_test,preds))"
   ]
  },
  {
   "cell_type": "code",
   "execution_count": null,
   "id": "b469c339",
   "metadata": {
    "colab": {
     "base_uri": "https://localhost:8080/",
     "height": 74
    },
    "id": "b469c339",
    "outputId": "2c388a0f-6215-4793-a4dc-41a24e26b502"
   },
   "outputs": [
    {
     "data": {
      "text/html": [
       "<style>#sk-container-id-2 {color: black;background-color: white;}#sk-container-id-2 pre{padding: 0;}#sk-container-id-2 div.sk-toggleable {background-color: white;}#sk-container-id-2 label.sk-toggleable__label {cursor: pointer;display: block;width: 100%;margin-bottom: 0;padding: 0.3em;box-sizing: border-box;text-align: center;}#sk-container-id-2 label.sk-toggleable__label-arrow:before {content: \"▸\";float: left;margin-right: 0.25em;color: #696969;}#sk-container-id-2 label.sk-toggleable__label-arrow:hover:before {color: black;}#sk-container-id-2 div.sk-estimator:hover label.sk-toggleable__label-arrow:before {color: black;}#sk-container-id-2 div.sk-toggleable__content {max-height: 0;max-width: 0;overflow: hidden;text-align: left;background-color: #f0f8ff;}#sk-container-id-2 div.sk-toggleable__content pre {margin: 0.2em;color: black;border-radius: 0.25em;background-color: #f0f8ff;}#sk-container-id-2 input.sk-toggleable__control:checked~div.sk-toggleable__content {max-height: 200px;max-width: 100%;overflow: auto;}#sk-container-id-2 input.sk-toggleable__control:checked~label.sk-toggleable__label-arrow:before {content: \"▾\";}#sk-container-id-2 div.sk-estimator input.sk-toggleable__control:checked~label.sk-toggleable__label {background-color: #d4ebff;}#sk-container-id-2 div.sk-label input.sk-toggleable__control:checked~label.sk-toggleable__label {background-color: #d4ebff;}#sk-container-id-2 input.sk-hidden--visually {border: 0;clip: rect(1px 1px 1px 1px);clip: rect(1px, 1px, 1px, 1px);height: 1px;margin: -1px;overflow: hidden;padding: 0;position: absolute;width: 1px;}#sk-container-id-2 div.sk-estimator {font-family: monospace;background-color: #f0f8ff;border: 1px dotted black;border-radius: 0.25em;box-sizing: border-box;margin-bottom: 0.5em;}#sk-container-id-2 div.sk-estimator:hover {background-color: #d4ebff;}#sk-container-id-2 div.sk-parallel-item::after {content: \"\";width: 100%;border-bottom: 1px solid gray;flex-grow: 1;}#sk-container-id-2 div.sk-label:hover label.sk-toggleable__label {background-color: #d4ebff;}#sk-container-id-2 div.sk-serial::before {content: \"\";position: absolute;border-left: 1px solid gray;box-sizing: border-box;top: 0;bottom: 0;left: 50%;z-index: 0;}#sk-container-id-2 div.sk-serial {display: flex;flex-direction: column;align-items: center;background-color: white;padding-right: 0.2em;padding-left: 0.2em;position: relative;}#sk-container-id-2 div.sk-item {position: relative;z-index: 1;}#sk-container-id-2 div.sk-parallel {display: flex;align-items: stretch;justify-content: center;background-color: white;position: relative;}#sk-container-id-2 div.sk-item::before, #sk-container-id-2 div.sk-parallel-item::before {content: \"\";position: absolute;border-left: 1px solid gray;box-sizing: border-box;top: 0;bottom: 0;left: 50%;z-index: -1;}#sk-container-id-2 div.sk-parallel-item {display: flex;flex-direction: column;z-index: 1;position: relative;background-color: white;}#sk-container-id-2 div.sk-parallel-item:first-child::after {align-self: flex-end;width: 50%;}#sk-container-id-2 div.sk-parallel-item:last-child::after {align-self: flex-start;width: 50%;}#sk-container-id-2 div.sk-parallel-item:only-child::after {width: 0;}#sk-container-id-2 div.sk-dashed-wrapped {border: 1px dashed gray;margin: 0 0.4em 0.5em 0.4em;box-sizing: border-box;padding-bottom: 0.4em;background-color: white;}#sk-container-id-2 div.sk-label label {font-family: monospace;font-weight: bold;display: inline-block;line-height: 1.2em;}#sk-container-id-2 div.sk-label-container {text-align: center;}#sk-container-id-2 div.sk-container {/* jupyter's `normalize.less` sets `[hidden] { display: none; }` but bootstrap.min.css set `[hidden] { display: none !important; }` so we also need the `!important` here to be able to override the default hidden behavior on the sphinx rendered scikit-learn.org. See: https://github.com/scikit-learn/scikit-learn/issues/21755 */display: inline-block !important;position: relative;}#sk-container-id-2 div.sk-text-repr-fallback {display: none;}</style><div id=\"sk-container-id-2\" class=\"sk-top-container\"><div class=\"sk-text-repr-fallback\"><pre>RandomForestClassifier()</pre><b>In a Jupyter environment, please rerun this cell to show the HTML representation or trust the notebook. <br />On GitHub, the HTML representation is unable to render, please try loading this page with nbviewer.org.</b></div><div class=\"sk-container\" hidden><div class=\"sk-item\"><div class=\"sk-estimator sk-toggleable\"><input class=\"sk-toggleable__control sk-hidden--visually\" id=\"sk-estimator-id-2\" type=\"checkbox\" checked><label for=\"sk-estimator-id-2\" class=\"sk-toggleable__label sk-toggleable__label-arrow\">RandomForestClassifier</label><div class=\"sk-toggleable__content\"><pre>RandomForestClassifier()</pre></div></div></div></div></div>"
      ],
      "text/plain": [
       "RandomForestClassifier()"
      ]
     },
     "execution_count": 45,
     "metadata": {},
     "output_type": "execute_result"
    }
   ],
   "source": [
    "\n",
    "# Create a RandomForestClassifier instance\n",
    "clf = RandomForestClassifier()\n",
    "\n",
    "# Fit the model to the training data\n",
    "clf.fit(x_train_resampled, y_train_resampled)"
   ]
  },
  {
   "cell_type": "code",
   "execution_count": null,
   "id": "b6bce548",
   "metadata": {
    "id": "b6bce548"
   },
   "outputs": [],
   "source": [
    "# Predict label for test data\n",
    "preds=clf.predict(x_test)"
   ]
  },
  {
   "cell_type": "code",
   "execution_count": null,
   "id": "d28f247c",
   "metadata": {
    "colab": {
     "base_uri": "https://localhost:8080/"
    },
    "id": "d28f247c",
    "outputId": "0f9d5183-16f9-4469-a67c-d447eeabe1bf"
   },
   "outputs": [
    {
     "name": "stdout",
     "output_type": "stream",
     "text": [
      "   Accuracy Score\n",
      "0        0.934751\n"
     ]
    }
   ],
   "source": [
    "# Evaluate accuracy of the model\n",
    "randomforest=accuracy_score(y_test,preds)\n",
    "randomforest = pd.DataFrame({'Accuracy Score': [randomforest]})\n",
    "#randomforest.to_csv('randomforest.csv', index=False)\n",
    "print(randomforest)"
   ]
  },
  {
   "cell_type": "code",
   "execution_count": null,
   "id": "37aef69e",
   "metadata": {
    "colab": {
     "base_uri": "https://localhost:8080/"
    },
    "id": "37aef69e",
    "outputId": "cde220b7-b06c-4d20-9ff3-00337dce0a15"
   },
   "outputs": [
    {
     "name": "stdout",
     "output_type": "stream",
     "text": [
      "              precision    recall  f1-score   support\n",
      "\n",
      "           1       0.99      1.00      1.00     84461\n",
      "           2       0.87      0.95      0.91     84205\n",
      "           3       0.95      0.85      0.90     84318\n",
      "\n",
      "    accuracy                           0.93    252984\n",
      "   macro avg       0.94      0.93      0.93    252984\n",
      "weighted avg       0.94      0.93      0.93    252984\n",
      "\n"
     ]
    }
   ],
   "source": [
    "# Function used from scikit-learn to generate classification report to evaluate performance\n",
    "print(classification_report(y_test,preds))"
   ]
  },
  {
   "cell_type": "code",
   "execution_count": null,
   "id": "cdd3ccfa",
   "metadata": {
    "colab": {
     "background_save": true
    },
    "id": "cdd3ccfa",
    "outputId": "a0f44ec8-d2a4-4923-d330-1e093b401000"
   },
   "outputs": [
    {
     "name": "stdout",
     "output_type": "stream",
     "text": [
      "Accuracy:    Accuracy Score\n",
      "0        0.837883\n"
     ]
    }
   ],
   "source": [
    "# Initialise k value in KNN\n",
    "k = 3\n",
    "# Create instance of KNN\n",
    "knn = KNeighborsClassifier(n_neighbors=k)\n",
    "\n",
    "# Fit the model on the training data\n",
    "knn.fit(x_train_resampled, y_train_resampled)\n",
    "\n",
    "# Predict the label for test data\n",
    "preds = knn.predict(x_test)\n",
    "\n",
    "# Evaluate the accuracy of the model\n",
    "accuracy = accuracy_score(y_test, preds)\n",
    "\n",
    "knn_score = pd.DataFrame({'Accuracy Score': [accuracy]})\n",
    "#knn_score.to_csv('knn.csv', index=False)\n",
    "\n",
    "print(\"Accuracy:\", knn_score)"
   ]
  },
  {
   "cell_type": "code",
   "execution_count": null,
   "id": "db973254",
   "metadata": {
    "colab": {
     "base_uri": "https://localhost:8080/"
    },
    "id": "db973254",
    "outputId": "ea43ea83-110a-49a6-8c62-7b23b87763fa"
   },
   "outputs": [
    {
     "name": "stdout",
     "output_type": "stream",
     "text": [
      "              precision    recall  f1-score   support\n",
      "\n",
      "           1       0.97      1.00      0.98     84461\n",
      "           2       0.72      0.89      0.79     84205\n",
      "           3       0.86      0.63      0.72     84318\n",
      "\n",
      "    accuracy                           0.84    252984\n",
      "   macro avg       0.85      0.84      0.83    252984\n",
      "weighted avg       0.85      0.84      0.83    252984\n",
      "\n"
     ]
    }
   ],
   "source": [
    "# Function used from scikit-learn to generate classification report to evaluate performance\n",
    "\n",
    "print(classification_report(y_test, preds))"
   ]
  },
  {
   "cell_type": "code",
   "execution_count": 52,
   "id": "8d0ab307",
   "metadata": {
    "colab": {
     "base_uri": "https://localhost:8080/"
    },
    "id": "8d0ab307",
    "outputId": "fb96fa86-e952-492f-d890-dcd8594848d6"
   },
   "outputs": [
    {
     "name": "stdout",
     "output_type": "stream",
     "text": [
      "[3]\n",
      "Slight Accident\n"
     ]
    }
   ],
   "source": [
    "# Trail code for prediction\n",
    "input_data = (1,1,1,1,2,30,5,5,1,2,1,1,1,2018)\n",
    "input_data_numpy_array = np.asarray(input_data)\n",
    "\n",
    "input_data_reshaped = input_data_numpy_array.reshape(1,-1)\n",
    "prediction = clf.predict(input_data_reshaped)\n",
    "print(prediction)\n",
    "\n",
    "if (prediction == 1):\n",
    "    print(\"Fatal Accident\")\n",
    "elif (prediction == 2):\n",
    "    print(\"Serious Accident\")\n",
    "elif (prediction == 3):\n",
    "    print(\"Slight Accident\")\n",
    "\n",
    "\n"
   ]
  },
  {
   "cell_type": "code",
   "execution_count": null,
   "id": "907dd617",
   "metadata": {
    "id": "907dd617"
   },
   "outputs": [],
   "source": [
    "\n",
    "\n",
    "# Save the trained model to a file\n",
    "filename = 'trail.pkl'\n",
    "pickle.dump(clf, open(filename, 'wb'))"
   ]
  },
  {
   "cell_type": "code",
   "execution_count": null,
   "id": "4d868670",
   "metadata": {
    "id": "4d868670"
   },
   "outputs": [],
   "source": []
  }
 ],
 "metadata": {
  "colab": {
   "provenance": []
  },
  "kernelspec": {
   "display_name": "Python 3 (ipykernel)",
   "language": "python",
   "name": "python3"
  },
  "language_info": {
   "codemirror_mode": {
    "name": "ipython",
    "version": 3
   },
   "file_extension": ".py",
   "mimetype": "text/x-python",
   "name": "python",
   "nbconvert_exporter": "python",
   "pygments_lexer": "ipython3",
   "version": "3.11.3"
  }
 },
 "nbformat": 4,
 "nbformat_minor": 5
}
